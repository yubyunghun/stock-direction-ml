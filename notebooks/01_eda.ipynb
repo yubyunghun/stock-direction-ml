{
 "cells": [
  {
   "cell_type": "code",
   "execution_count": null,
   "id": "1761b402",
   "metadata": {},
   "outputs": [],
   "source": [
    "# Re-imports after a restart\n",
    "import sys, os, importlib\n",
    "sys.path.append(os.path.abspath(\"..\"))  # make ../src visible\n",
    "\n",
    "import pandas as pd\n",
    "import matplotlib.pyplot as plt\n",
    "\n",
    "# Re-import project modules\n",
    "from src import data as data_mod, features as features_mod, utils as utils_mod\n",
    "importlib.reload(data_mod)\n",
    "importlib.reload(features_mod)\n",
    "importlib.reload(utils_mod)\n",
    "\n",
    "from src.data import get_data\n",
    "from src.features import add_features\n",
    "from src.utils import make_labels\n"
   ]
  },
  {
   "cell_type": "code",
   "execution_count": null,
   "id": "3c76425d",
   "metadata": {},
   "outputs": [],
   "source": [
    "df = get_data(\"AAPL\", start=\"2015-01-01\", end=\"2023-12-31\")\n",
    "print(\"Raw data shape:\", df.shape)\n",
    "print(df.columns.tolist())\n",
    "df.head()\n"
   ]
  },
  {
   "cell_type": "code",
   "execution_count": null,
   "id": "1ef1979f",
   "metadata": {},
   "outputs": [],
   "source": [
    "df = add_features(df)\n",
    "print(\"With features shape:\", df.shape)\n",
    "df.head()\n"
   ]
  },
  {
   "cell_type": "code",
   "execution_count": null,
   "id": "d1f1634e",
   "metadata": {},
   "outputs": [],
   "source": [
    "df = make_labels(df, tau=0.0)\n",
    "print(\"Final dataset shape:\", df.shape)\n",
    "df.head()\n"
   ]
  },
  {
   "cell_type": "code",
   "execution_count": null,
   "id": "e7a96777",
   "metadata": {},
   "outputs": [],
   "source": [
    "plt.figure(figsize=(12,6))\n",
    "plt.plot(df[\"date\"], df[\"close\"], label=\"Close Price\")\n",
    "plt.title(\"AAPL Closing Price\")\n",
    "plt.xlabel(\"Date\")\n",
    "plt.ylabel(\"Price\")\n",
    "plt.legend()\n",
    "plt.show()\n"
   ]
  },
  {
   "cell_type": "code",
   "execution_count": null,
   "id": "6ec78991",
   "metadata": {},
   "outputs": [],
   "source": [
    "print(\"Label distribution (0=down, 1=up):\")\n",
    "df[\"y\"].value_counts(normalize=True)\n"
   ]
  }
 ],
 "metadata": {
  "kernelspec": {
   "display_name": "Python 3",
   "language": "python",
   "name": "python3"
  },
  "language_info": {
   "codemirror_mode": {
    "name": "ipython",
    "version": 3
   },
   "file_extension": ".py",
   "mimetype": "text/x-python",
   "name": "python",
   "nbconvert_exporter": "python",
   "pygments_lexer": "ipython3",
   "version": "3.13.6"
  }
 },
 "nbformat": 4,
 "nbformat_minor": 5
}
