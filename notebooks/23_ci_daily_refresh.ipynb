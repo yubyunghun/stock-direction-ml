{
 "cells": [
  {
   "cell_type": "code",
   "execution_count": 1,
   "id": "0c245b52",
   "metadata": {},
   "outputs": [
    {
     "name": "stdout",
     "output_type": "stream",
     "text": [
      "Repo root → C:\\.projects\\stock-direction-ml\\stock-direction-ml\n",
      ".github/workflows → True\n"
     ]
    }
   ],
   "source": [
    "# NB23 — repo root & create .github/workflows\n",
    "from pathlib import Path\n",
    "\n",
    "def find_repo_root(start: Path, must_have=(\"app\",\"notebooks\")) -> Path:\n",
    "    cur = start.resolve()\n",
    "    for _ in range(6):\n",
    "        if all((cur/m).exists() for m in must_have):\n",
    "            return cur\n",
    "        cur = cur.parent\n",
    "    if start.name.lower()==\"notebooks\" and all((start.parent/m).exists() for m in must_have):\n",
    "        return start.parent.resolve()\n",
    "    raise FileNotFoundError(\"Repo root not found\")\n",
    "\n",
    "ROOT = find_repo_root(Path.cwd())\n",
    "print(\"Repo root →\", ROOT)\n",
    "\n",
    "wf_dir = ROOT/\".github\"/\"workflows\"\n",
    "wf_dir.mkdir(parents=True, exist_ok=True)\n",
    "print(\".github/workflows →\", wf_dir.exists())\n"
   ]
  },
  {
   "cell_type": "code",
   "execution_count": 2,
   "id": "5801dffb",
   "metadata": {},
   "outputs": [
    {
     "name": "stdout",
     "output_type": "stream",
     "text": [
      "NB14 exists?             True\n",
      "requirements.txt exists? True\n"
     ]
    }
   ],
   "source": [
    "# NB23 — sanity checks\n",
    "nb14 = ROOT/\"notebooks\"/\"14_deploy_pipeline.ipynb\"\n",
    "req  = ROOT/\"notebooks\"/\"requirements.txt\"\n",
    "print(\"NB14 exists?            \", nb14.exists())\n",
    "print(\"requirements.txt exists?\", req.exists())\n"
   ]
  },
  {
   "cell_type": "code",
   "execution_count": 3,
   "id": "6da62e19",
   "metadata": {},
   "outputs": [
    {
     "name": "stdout",
     "output_type": "stream",
     "text": [
      "Wrote: C:\\.projects\\stock-direction-ml\\stock-direction-ml\\.github\\workflows\\daily_refresh.yml\n"
     ]
    }
   ],
   "source": [
    "# NB23 — write .github/workflows/daily_refresh.yml (06:00 PT daily + concurrency)\n",
    "lines = [\n",
    "\"name: Daily Refresh (run NB14)\",\n",
    "\"\",\n",
    "\"on:\",\n",
    "\"  schedule:\",\n",
    "\"    # 06:00 PT (13:00 UTC) daily\",\n",
    "\"    - cron: '0 13 * * *'\",\n",
    "\"  workflow_dispatch:\",\n",
    "\"\",\n",
    "\"permissions:\",\n",
    "\"  contents: write\",\n",
    "\"\",\n",
    "\"jobs:\",\n",
    "\"  run-daily:\",\n",
    "\"    concurrency:\",\n",
    "\"      group: daily-refresh\",\n",
    "\"      cancel-in-progress: true\",\n",
    "\"    runs-on: ubuntu-latest\",\n",
    "\"    steps:\",\n",
    "\"      - name: Checkout\",\n",
    "\"        uses: actions/checkout@v4\",\n",
    "\"\",\n",
    "\"      - name: Set up Python\",\n",
    "\"        uses: actions/setup-python@v5\",\n",
    "\"        with:\",\n",
    "\"          python-version: '3.11'\",\n",
    "\"\",\n",
    "\"      - name: Install deps\",\n",
    "\"        run: |\",\n",
    "\"          python -m pip install --upgrade pip\",\n",
    "\"          python -m pip install jupyter nbconvert\",\n",
    "\"          python -m pip install -r notebooks/requirements.txt\",\n",
    "\"\",\n",
    "\"      - name: Execute NB14\",\n",
    "\"        run: |\",\n",
    "\"          jupyter nbconvert --to notebook --execute notebooks/14_deploy_pipeline.ipynb \\\\\",\n",
    "\"            --output notebooks/14_deploy_pipeline_ran.ipynb \\\\\",\n",
    "\"            --ExecutePreprocessor.timeout=1200 \\\\\",\n",
    "\"            --ExecutePreprocessor.kernel_name=python3\",\n",
    "\"\",\n",
    "\"      - name: Commit & push if changed\",\n",
    "\"        run: |\",\n",
    "\"          git config user.name 'github-actions'\",\n",
    "\"          git config user.email 'actions@github.com'\",\n",
    "\"          git add -A\",\n",
    "\"          if git diff --cached --quiet; then\",\n",
    "\"            echo 'No changes to commit.'\",\n",
    "\"          else\",\n",
    "\"            git commit -m 'CI: daily refresh (NB14 executed)'\",\n",
    "\"            git push\",\n",
    "\"          fi\",\n",
    "]\n",
    "wf_path = ROOT/\".github\"/\"workflows\"/\"daily_refresh.yml\"\n",
    "wf_path.write_text(\"\\\\n\".join(lines) + \"\\\\n\", encoding=\"utf-8\")\n",
    "print(\"Wrote:\", wf_path.resolve())\n"
   ]
  },
  {
   "cell_type": "code",
   "execution_count": 4,
   "id": "1bdf2bb2",
   "metadata": {},
   "outputs": [
    {
     "name": "stdout",
     "output_type": "stream",
     "text": [
      "True\n"
     ]
    }
   ],
   "source": [
    "# NB23 — presence check\n",
    "print((ROOT/\".github\"/\"workflows\"/\"daily_refresh.yml\").exists())\n"
   ]
  },
  {
   "cell_type": "code",
   "execution_count": 5,
   "id": "d0b2ca79",
   "metadata": {},
   "outputs": [
    {
     "name": "stdout",
     "output_type": "stream",
     "text": [
      "nb_path exists? True → C:\\.projects\\stock-direction-ml\\stock-direction-ml\\notebooks\\14_deploy_pipeline.ipynb\n",
      "NB14 executed successfully under nbclient.\n"
     ]
    }
   ],
   "source": [
    "# NB23 — inline diagnosis of NB14 with nbclient (optional)\n",
    "import nbformat\n",
    "from nbclient import NotebookClient\n",
    "from nbclient.exceptions import CellExecutionError\n",
    "from pathlib import Path\n",
    "\n",
    "nb_path = ROOT / \"notebooks\" / \"14_deploy_pipeline.ipynb\"\n",
    "print(\"nb_path exists?\", nb_path.exists(), \"→\", nb_path)\n",
    "\n",
    "nb = nbformat.read(str(nb_path), as_version=4)\n",
    "client = NotebookClient(nb, timeout=1200, kernel_name=\"python3\", allow_errors=False, record_timing=True)\n",
    "\n",
    "try:\n",
    "    client.execute()\n",
    "    print(\"NB14 executed successfully under nbclient.\")\n",
    "except CellExecutionError as e:\n",
    "    print(\"\\nNB14 FAILED during execution.\\n\")\n",
    "    print(\"------- TRACEBACK (last error) -------\")\n",
    "    print(e)\n"
   ]
  },
  {
   "cell_type": "code",
   "execution_count": 6,
   "id": "2f2e5977",
   "metadata": {},
   "outputs": [
    {
     "name": "stdout",
     "output_type": "stream",
     "text": [
      "Running: c:\\.projects\\stock-direction-ml\\stock-direction-ml\\.venv\\Scripts\\python.exe -m jupyter nbconvert --to notebook --execute C:\\.projects\\stock-direction-ml\\stock-direction-ml\\notebooks\\14_deploy_pipeline.ipynb --output 14_deploy_pipeline_ran.ipynb --ExecutePreprocessor.timeout=1200 --ExecutePreprocessor.kernel_name=python3\n",
      "Return code: 0  (0 = success)\n"
     ]
    }
   ],
   "source": [
    "# NB23 — local dry run via nbconvert (Windows-safe; optional)\n",
    "import sys, subprocess\n",
    "nb_in  = str((ROOT/\"notebooks\"/\"14_deploy_pipeline.ipynb\").resolve())\n",
    "nb_out = \"14_deploy_pipeline_ran.ipynb\"\n",
    "\n",
    "cmd = [\n",
    "    sys.executable, \"-m\", \"jupyter\", \"nbconvert\",\n",
    "    \"--to\", \"notebook\", \"--execute\", nb_in,\n",
    "    \"--output\", nb_out,\n",
    "    \"--ExecutePreprocessor.timeout=1200\",\n",
    "    \"--ExecutePreprocessor.kernel_name=python3\",\n",
    "]\n",
    "print(\"Running:\", \" \".join(cmd))\n",
    "rc = subprocess.call(cmd)\n",
    "print(\"Return code:\", rc, \" (0 = success)\")\n"
   ]
  }
 ],
 "metadata": {
  "kernelspec": {
   "display_name": ".venv",
   "language": "python",
   "name": "python3"
  },
  "language_info": {
   "codemirror_mode": {
    "name": "ipython",
    "version": 3
   },
   "file_extension": ".py",
   "mimetype": "text/x-python",
   "name": "python",
   "nbconvert_exporter": "python",
   "pygments_lexer": "ipython3",
   "version": "3.13.7"
  }
 },
 "nbformat": 4,
 "nbformat_minor": 5
}
