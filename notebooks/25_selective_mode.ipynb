{
 "cells": [
  {
   "cell_type": "code",
   "execution_count": 27,
   "id": "2ffd74b8",
   "metadata": {},
   "outputs": [
    {
     "name": "stdout",
     "output_type": "stream",
     "text": [
      "ROOT: C:\\.projects\\stock-direction-ml\\stock-direction-ml-2\n",
      "app/                    : True\n",
      "app/api.py              : True\n",
      "notebooks/app/api.py    : False\n",
      "artifacts/              : True\n",
      "artifacts_crypto/       : True\n",
      "data/df_nb02.csv        : True\n",
      "data/df_nb02.parquet    : False\n"
     ]
    }
   ],
   "source": [
    "# NB25 — repo root & presence\n",
    "from pathlib import Path\n",
    "\n",
    "def find_repo_root(start: Path, must_have=(\"app\",\"notebooks\")) -> Path:\n",
    "    cur = start.resolve()\n",
    "    for _ in range(7):\n",
    "        if all((cur/m).exists() for m in must_have): return cur\n",
    "        cur = cur.parent\n",
    "    if start.name.lower()==\"notebooks\" and all((start.parent/m).exists() for m in must_have):\n",
    "        return start.parent.resolve()\n",
    "    return start.resolve()\n",
    "\n",
    "ROOT = find_repo_root(Path.cwd())\n",
    "print(\"ROOT:\", ROOT)\n",
    "\n",
    "checks = {\n",
    "    \"app/\": (ROOT/\"app\").exists(),\n",
    "    \"app/api.py\": (ROOT/\"app\"/\"api.py\").exists(),\n",
    "    \"notebooks/app/api.py\": (ROOT/\"notebooks\"/\"app\"/\"api.py\").exists(),\n",
    "    \"artifacts/\": (ROOT/\"artifacts\").exists(),\n",
    "    \"artifacts_crypto/\": (ROOT/\"artifacts_crypto\").exists(),\n",
    "    \"data/df_nb02.csv\": (ROOT/\"data\"/\"df_nb02.csv\").exists(),\n",
    "    \"data/df_nb02.parquet\": (ROOT/\"data\"/\"df_nb02.parquet\").exists(),\n",
    "}\n",
    "for k,v in checks.items():\n",
    "    print(f\"{k:24s}:\", v)\n"
   ]
  },
  {
   "cell_type": "code",
   "execution_count": 28,
   "id": "39cd6c5f",
   "metadata": {},
   "outputs": [
    {
     "name": "stdout",
     "output_type": "stream",
     "text": [
      "Wrote: C:\\.projects\\stock-direction-ml\\stock-direction-ml-2\\artifacts\\selective_config.json\n",
      "{'asset_class': 'equity', 'target_precision': 0.9, 'global_tau': 0.85, 'invert_proba': True, 'notes': 'Selective mode: high precision, lower coverage.'}\n"
     ]
    }
   ],
   "source": [
    "# NB25 — write/update selective_config.json (global τ + inversion)\n",
    "import json\n",
    "from pathlib import Path\n",
    "\n",
    "cfg_path = ROOT/\"artifacts\"/\"selective_config.json\"\n",
    "cfg_path.parent.mkdir(parents=True, exist_ok=True)\n",
    "\n",
    "# You can tweak these later if needed:\n",
    "cfg = {\n",
    "    \"asset_class\": \"equity\",\n",
    "    \"target_precision\": 0.90,\n",
    "    \"global_tau\": 0.85,         # chosen from your NB25 sweep\n",
    "    \"invert_proba\": True,       # use 1 - p as the decision score\n",
    "    \"notes\": \"Selective mode: high precision, lower coverage.\"\n",
    "}\n",
    "\n",
    "# Merge if file exists, else write fresh\n",
    "if cfg_path.exists():\n",
    "    old = json.loads(cfg_path.read_text(encoding=\"utf-8\"))\n",
    "    old.update(cfg)\n",
    "    cfg = old\n",
    "\n",
    "cfg_path.write_text(json.dumps(cfg, indent=2), encoding=\"utf-8\")\n",
    "print(\"Wrote:\", cfg_path.resolve())\n",
    "print(cfg)\n"
   ]
  },
  {
   "cell_type": "code",
   "execution_count": 29,
   "id": "073755ec",
   "metadata": {},
   "outputs": [
    {
     "name": "stdout",
     "output_type": "stream",
     "text": [
      "api.py: C:\\.projects\\stock-direction-ml\\stock-direction-ml-2\\app\\api.py\n",
      "Wrapper already present; no change.\n",
      "Loaded: <module 'app.api' from 'C:\\\\.projects\\\\stock-direction-ml\\\\stock-direction-ml-2\\\\app\\\\api.py'>\n"
     ]
    }
   ],
   "source": [
    "# NB25 — append selective wrapper to api.py (idempotent)\n",
    "from pathlib import Path\n",
    "import sys, types, importlib.util\n",
    "\n",
    "candidates = [ROOT/\"app\"/\"api.py\", ROOT/\"notebooks\"/\"app\"/\"api.py\"]\n",
    "api_path = next((p for p in candidates if p.exists()), None)\n",
    "print(\"api.py:\", api_path if api_path else \"NOT FOUND\")\n",
    "if api_path is None:\n",
    "    raise FileNotFoundError(\"No api.py found in app/ or notebooks/app/\")\n",
    "\n",
    "src = api_path.read_text(encoding=\"utf-8\")\n",
    "marker = \"# --- selective override wrapper (auto-added by NB25) ---\"\n",
    "\n",
    "if marker not in src:\n",
    "    wrapper = \"\\n\\n\" + marker + \"\\n\" + '''\n",
    "try:\n",
    "    _sel_wrapper_applied  # guard\n",
    "except NameError:\n",
    "    _orig_predict_core = predict_core\n",
    "\n",
    "    def predict_core(asset_class=\"equity\", source=\"repo\", ticker=None,\n",
    "                     start=None, end=None, fee_bps=5, tau=None):\n",
    "        pred, meta = _orig_predict_core(asset_class=asset_class, source=source, ticker=ticker,\n",
    "                                        start=start, end=end, fee_bps=fee_bps, tau=tau)\n",
    "\n",
    "        import json, numpy as _np, pandas as _pd\n",
    "        from pathlib import Path as _P\n",
    "\n",
    "        # Locate repo root for artifacts\n",
    "        try:\n",
    "            base = ROOT  # provided by app.config\n",
    "        except NameError:\n",
    "            base = _P(__file__).resolve().parent.parent  # app/ → repo root\n",
    "\n",
    "        # Load selective settings\n",
    "        sel = {}\n",
    "        cfgp = base / \"artifacts\" / \"selective_config.json\"\n",
    "        if cfgp.exists():\n",
    "            try: sel = json.loads(cfgp.read_text(encoding=\"utf-8\"))\n",
    "            except Exception: sel = {}\n",
    "\n",
    "        invert = bool(sel.get(\"invert_proba\", False))\n",
    "        tau_default = float(sel.get(\"global_tau\", meta.get(\"tau_used\", 0.59)))\n",
    "        tau_used = float(tau) if tau is not None else tau_default\n",
    "\n",
    "        # Normalize to DataFrame for post-processing\n",
    "        if isinstance(pred, list):\n",
    "            dfp = _pd.DataFrame(pred); ret_type = \"list\"\n",
    "        else:\n",
    "            dfp = pred.copy(); ret_type = \"df\"\n",
    "\n",
    "        # If proba present → apply inversion + re-threshold, and sync tau_used column\n",
    "        if \"proba\" in dfp.columns:\n",
    "            proba = _pd.to_numeric(dfp[\"proba\"], errors=\"coerce\").to_numpy()\n",
    "            proba = _np.clip(proba, 1e-6, 1-1e-6)\n",
    "            if invert:\n",
    "                proba = 1.0 - proba\n",
    "                dfp[\"proba\"] = proba\n",
    "            dfp[\"signal\"] = (proba >= tau_used).astype(int)\n",
    "        dfp[\"tau_used\"] = float(tau_used)\n",
    "        meta[\"tau_used\"] = tau_used\n",
    "\n",
    "        return (dfp.to_dict(orient=\"records\"), meta) if ret_type==\"list\" else (dfp, meta)\n",
    "\n",
    "    _sel_wrapper_applied = True\n",
    "'''\n",
    "    api_path.write_text(src + wrapper, encoding=\"utf-8\")\n",
    "    print(\"Wrapper appended →\", api_path)\n",
    "else:\n",
    "    print(\"Wrapper already present; no change.\")\n",
    "\n",
    "# Load module from file path (works regardless of sys.path)\n",
    "spec = importlib.util.spec_from_file_location(\"app.api\", str(api_path))\n",
    "pkg = types.ModuleType(\"app\"); pkg.__path__ = [str(api_path.parent)]\n",
    "sys.modules[\"app\"] = pkg\n",
    "mod = importlib.util.module_from_spec(spec)\n",
    "sys.modules[\"app.api\"] = mod\n",
    "spec.loader.exec_module(mod)\n",
    "api = mod\n",
    "print(\"Loaded:\", api)\n"
   ]
  },
  {
   "cell_type": "code",
   "execution_count": 30,
   "id": "93fc9919",
   "metadata": {},
   "outputs": [
    {
     "name": "stdout",
     "output_type": "stream",
     "text": [
      "tau_used(meta): 0.85 | return type: <class 'list'>\n",
      "            date ticker     proba  signal  tau_used\n",
      "2683  2025-10-08   AAPL  0.305639       0      0.85\n",
      "2684  2025-10-09   AAPL  0.301950       0      0.85\n",
      "2685  2025-10-10   AAPL  0.359084       0      0.85\n",
      "Unique tau_used in rows: [0.85]\n"
     ]
    }
   ],
   "source": [
    "# NB25 — smoke test (equity, repo source)\n",
    "import pandas as pd\n",
    "\n",
    "pred, meta = api.predict_core(\n",
    "    asset_class=\"equity\",\n",
    "    source=\"repo\",\n",
    "    ticker=None,   # auto-picks AAPL if present else majority ticker\n",
    "    start=None, end=None,\n",
    "    fee_bps=5, tau=None\n",
    ")\n",
    "\n",
    "print(\"tau_used(meta):\", meta.get(\"tau_used\"), \"| return type:\", type(pred))\n",
    "df_eq = pd.DataFrame(pred) if isinstance(pred, list) else pred\n",
    "print(df_eq.tail(3)[[\"date\",\"ticker\",\"proba\",\"signal\",\"tau_used\"]])\n",
    "print(\"Unique tau_used in rows:\", df_eq[\"tau_used\"].unique()[:5])\n"
   ]
  },
  {
   "cell_type": "code",
   "execution_count": 31,
   "id": "25800506",
   "metadata": {},
   "outputs": [
    {
     "name": "stdout",
     "output_type": "stream",
     "text": [
      "CRYPTO tau_used(meta): 0.85 | rows: 256\n",
      "           date   ticker     proba  signal  tau_used\n",
      "253  2025-10-27  BTC-USD  0.508027       0      0.85\n",
      "254  2025-10-28  BTC-USD  0.504568       0      0.85\n",
      "255  2025-10-29  BTC-USD  0.492516       0      0.85\n",
      "\n",
      "Run Streamlit locally from REPO ROOT:\n",
      "  streamlit run app/streamlit_app.py\n",
      "\n",
      "Run API locally (optional):\n",
      "  uvicorn app.api:app --reload --port=8000\n"
     ]
    }
   ],
   "source": [
    "# NB25 — smoke test (crypto, fetch source) + run instructions\n",
    "import pandas as pd\n",
    "\n",
    "try:\n",
    "    pred, meta = api.predict_core(\n",
    "        asset_class=\"crypto\",\n",
    "        source=\"fetch\",\n",
    "        ticker=\"BTC-USD\",\n",
    "        start=str(pd.Timestamp.today().date().replace(year=pd.Timestamp.today().year-1)),\n",
    "        end=None,\n",
    "        fee_bps=5,\n",
    "        tau=None\n",
    "    )\n",
    "    df_cr = pd.DataFrame(pred) if isinstance(pred, list) else pred\n",
    "    print(\"CRYPTO tau_used(meta):\", meta.get(\"tau_used\"), \"| rows:\", len(df_cr))\n",
    "    print(df_cr.tail(3)[[\"date\",\"ticker\",\"proba\",\"signal\",\"tau_used\"]])\n",
    "except Exception as e:\n",
    "    print(\"Crypto fetch skipped:\", e)\n",
    "\n",
    "print(\"\\nRun Streamlit locally from REPO ROOT:\")\n",
    "print(\"  streamlit run app/streamlit_app.py\")\n",
    "print(\"\\nRun API locally (optional):\")\n",
    "print(\"  uvicorn app.api:app --reload --port=8000\")\n"
   ]
  }
 ],
 "metadata": {
  "kernelspec": {
   "display_name": ".venv",
   "language": "python",
   "name": "python3"
  },
  "language_info": {
   "codemirror_mode": {
    "name": "ipython",
    "version": 3
   },
   "file_extension": ".py",
   "mimetype": "text/x-python",
   "name": "python",
   "nbconvert_exporter": "python",
   "pygments_lexer": "ipython3",
   "version": "3.13.7"
  }
 },
 "nbformat": 4,
 "nbformat_minor": 5
}
