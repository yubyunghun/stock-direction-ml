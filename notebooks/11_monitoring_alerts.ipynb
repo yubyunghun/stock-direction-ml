{
 "cells": [
  {
   "cell_type": "code",
   "execution_count": 13,
   "id": "49aab757",
   "metadata": {},
   "outputs": [],
   "source": [
    "# --- NB11: Monitoring & Alerts — imports & policy ---\n",
    "import json, math, warnings\n",
    "from pathlib import Path\n",
    "\n",
    "import numpy as np\n",
    "import pandas as pd\n",
    "import matplotlib.pyplot as plt\n",
    "\n",
    "from sklearn.metrics import roc_auc_score, brier_score_loss\n",
    "\n",
    "# Paths\n",
    "DATA = Path(\"data\"); ART = Path(\"artifacts\"); FIG = Path(\"reports/figures\")\n",
    "for p in [DATA, ART, FIG]: p.mkdir(parents=True, exist_ok=True)\n",
    "\n",
    "# Alert policy (tune to taste)\n",
    "LAST_N = 60                  # rolling window\n",
    "WARN_MIN_SHARPE = -0.30      # warn if below\n",
    "ALERT_MIN_SHARPE = -0.50     # alert if below\n",
    "MIN_COVERAGE = 0.05          # warn if below\n",
    "MAX_TURNOVER = 0.40          # warn if above\n",
    "MIN_DRIFT_P = 1e-4           # warn if min p-value below this\n"
   ]
  },
  {
   "cell_type": "code",
   "execution_count": 14,
   "id": "d0987ef4",
   "metadata": {},
   "outputs": [
    {
     "name": "stdout",
     "output_type": "stream",
     "text": [
      "Signals rows: 2686 | span: 2015-02-06 → 2025-10-10\n",
      "Columns: ['date', 'close', 'prob', 'signal', 'ret_next', 'signal_prev', 'flip', 'strategy_ret', 'equity']\n"
     ]
    }
   ],
   "source": [
    "# --- Load signals & optional paper snapshot ---\n",
    "sig_path = DATA/\"signals.csv\"\n",
    "if not sig_path.exists():\n",
    "    raise FileNotFoundError(\"Run NB10 first to create data/signals.csv\")\n",
    "\n",
    "signals = pd.read_csv(sig_path, parse_dates=[\"date\"])\n",
    "signals = signals.sort_values(\"date\").reset_index(drop=True)\n",
    "\n",
    "paper = {}\n",
    "p_path = ART/\"paper_trade.json\"\n",
    "if p_path.exists():\n",
    "    paper = json.loads(p_path.read_text(encoding=\"utf-8\"))\n",
    "\n",
    "print(f\"Signals rows: {len(signals)} | span: {signals['date'].min().date()} → {signals['date'].max().date()}\")\n",
    "print(\"Columns:\", list(signals.columns))\n"
   ]
  },
  {
   "cell_type": "code",
   "execution_count": 15,
   "id": "845f3eaa",
   "metadata": {},
   "outputs": [
    {
     "name": "stdout",
     "output_type": "stream",
     "text": [
      "Last 60d KPIs: {'CAGR': np.float64(-0.1805), 'Sharpe': np.float64(-2.8498), 'Vol': np.float64(0.0633), 'Hit': np.float64(0.0167)} | Coverage: 0.183 | Turnover: 0.100 | Trades: 6 | Hit_cond: 0.071\n",
      "Last 60d AUC: 0.308 | Brier: 0.2703 | Realized days: 59\n"
     ]
    }
   ],
   "source": [
    "# --- Rolling KPIs (LAST_N) and classification metrics on realized days ---\n",
    "def kpis_from_ret(r, freq=252):\n",
    "    r = pd.Series(r).dropna()\n",
    "    if len(r)==0:\n",
    "        return dict(CAGR=np.nan, Sharpe=np.nan, Vol=np.nan, Hit=np.nan)\n",
    "    eq = (1 + r).cumprod()\n",
    "    cagr = (1 + r).prod() ** (freq / len(r)) - 1\n",
    "    vol  = r.std() * math.sqrt(freq)\n",
    "    sharpe = cagr / vol if vol > 0 else np.nan\n",
    "    hit = (r > 0).mean()\n",
    "    return dict(CAGR=cagr, Sharpe=sharpe, Vol=vol, Hit=hit)\n",
    "\n",
    "tail = signals.tail(LAST_N).copy()\n",
    "# realized classification rows: have both prob & ret_next\n",
    "realized = tail.dropna(subset=[\"prob\",\"ret_next\"]).copy()\n",
    "y_true = (realized[\"ret_next\"] > 0).astype(int)\n",
    "y_prob = realized[\"prob\"].clip(1e-9, 1-1e-9)\n",
    "\n",
    "# Strategy returns & trading stats\n",
    "r_60   = tail[\"strategy_ret\"].fillna(0.0)\n",
    "cov_60 = float(tail[\"signal\"].mean())\n",
    "tov_60 = float(tail[\"flip\"].mean())\n",
    "trd_60 = int(tail[\"flip\"].sum())\n",
    "cond_hit = float((r_60[ (tail[\"signal\"]==1) | (tail[\"flip\"]==1) ] > 0).mean()) if trd_60>0 else np.nan\n",
    "\n",
    "# KPIs\n",
    "k = kpis_from_ret(r_60)\n",
    "k_rounded = {k_: (round(v,4) if pd.notnull(v) else None) for k_,v in k.items()}\n",
    "\n",
    "# Classification\n",
    "auc_60   = float(roc_auc_score(y_true, y_prob)) if len(y_true.unique())>1 else np.nan\n",
    "brier_60 = float(brier_score_loss(y_true, y_prob)) if len(y_true)>0 else np.nan\n",
    "\n",
    "print(\"Last 60d KPIs:\", k_rounded,\n",
    "      f\"| Coverage: {cov_60:.3f} | Turnover: {tov_60:.3f} | Trades: {trd_60} | Hit_cond: {cond_hit:.3f}\")\n",
    "print(f\"Last 60d AUC: {auc_60:.3f} | Brier: {brier_60:.4f} | Realized days: {len(realized)}\")\n",
    "\n",
    "# Buy & hold vs Strategy equity (full series for plotting)\n",
    "bh = (1 + signals[\"ret_next\"].fillna(0.0)).cumprod()\n",
    "eq = signals[\"equity\"]\n"
   ]
  },
  {
   "cell_type": "code",
   "execution_count": 16,
   "id": "c612fbf2",
   "metadata": {},
   "outputs": [
    {
     "name": "stdout",
     "output_type": "stream",
     "text": [
      "No standardized drift file found (NB10 patch optional).\n"
     ]
    }
   ],
   "source": [
    "# --- Drift summary (standardized) ---\n",
    "drift_path = DATA/\"feature_drift_live_standardized.csv\"\n",
    "drift_summary = {\"min_p_value\": None, \"worst_feature\": None, \"rows\": 0}\n",
    "\n",
    "if drift_path.exists() and drift_path.stat().st_size > 0:\n",
    "    drift = pd.read_csv(drift_path)\n",
    "    if \"p_value\" in drift.columns and not drift.empty:\n",
    "        d_sorted = drift.sort_values(\"p_value\")\n",
    "        drift_summary = {\n",
    "            \"min_p_value\": float(d_sorted[\"p_value\"].iloc[0]),\n",
    "            \"worst_feature\": str(d_sorted[\"feature\"].iloc[0]),\n",
    "            \"rows\": int(len(drift))\n",
    "        }\n",
    "        print(\"Drift (standardized):\", drift_summary)\n",
    "    else:\n",
    "        print(\"Drift file present but missing p_value column.\")\n",
    "else:\n",
    "    print(\"No standardized drift file found (NB10 patch optional).\")\n"
   ]
  },
  {
   "cell_type": "code",
   "execution_count": 17,
   "id": "12da55d9",
   "metadata": {},
   "outputs": [
    {
     "name": "stdout",
     "output_type": "stream",
     "text": [
      "Policy: PAUSE (AUC_recent=0.374 < 0.52) | AUC_recent=0.3742657342657343 | Coverage60=0.000 | Turnover60=0.000 | Trades60=0\n",
      "Dynamic 60d KPIs: {'CAGR': np.float64(0.0), 'Sharpe': None, 'Vol': np.float64(0.0), 'MaxDD': np.float64(0.0)}\n",
      "Saved dynamic signals → data/signals_dynamic.csv\n"
     ]
    }
   ],
   "source": [
    "# --- Policy patch: dynamic τ with coverage target + pause-on-low-skill (self-contained) ---\n",
    "import numpy as np\n",
    "from sklearn.metrics import roc_auc_score\n",
    "import json\n",
    "from pathlib import Path\n",
    "\n",
    "# Inputs/paths\n",
    "DATA_DIR = Path(\"data\"); ART_DIR = Path(\"artifacts\")\n",
    "POLICY_LOOKBACK = 120   # days of recent history to set τ\n",
    "COV_TARGET = 0.20       # aim ~20% coverage\n",
    "AUC_MIN = 0.52          # pause if recent realized AUC below this\n",
    "MIN_REALIZED = 40       # need enough realized days\n",
    "TAU_FALLBACK = 0.59     # used only for messages if dynamic not used\n",
    "\n",
    "# Resolve fee_bps robustly\n",
    "fee_bps = None\n",
    "bs = ART_DIR / \"backtest_summary.json\"\n",
    "pt = ART_DIR / \"paper_trade.json\"\n",
    "try:\n",
    "    if bs.exists():\n",
    "        j = json.loads(bs.read_text(encoding=\"utf-8\"))\n",
    "        fee_bps = float(j.get(\"fee_bps\", np.nan))\n",
    "except Exception:\n",
    "    pass\n",
    "if (fee_bps is None or not np.isfinite(fee_bps)) and pt.exists():\n",
    "    try:\n",
    "        j = json.loads(pt.read_text(encoding=\"utf-8\"))\n",
    "        fee_bps = float(j.get(\"fee_bps\", np.nan))\n",
    "    except Exception:\n",
    "        pass\n",
    "if fee_bps is None or not np.isfinite(fee_bps):\n",
    "    # last fallback: use any global or default 5.0\n",
    "    fee_bps = float(globals().get(\"FEE_BPS\", 5.0))\n",
    "FEE = fee_bps / 10000.0\n",
    "\n",
    "# Copy signals from NB10 (assumes 'signals' DataFrame exists from earlier cells)\n",
    "sig = signals.copy()\n",
    "\n",
    "# Recent realized window for skill check (exclude last NaN-ret day)\n",
    "realized = sig.dropna(subset=[\"prob\",\"ret_next\"]).tail(POLICY_LOOKBACK).copy()\n",
    "\n",
    "auc_recent = np.nan\n",
    "auc_ok = False\n",
    "if len(realized) >= MIN_REALIZED and realized[\"ret_next\"].nunique() > 1:\n",
    "    y_true = (realized[\"ret_next\"] > 0).astype(int).to_numpy()\n",
    "    y_prob = realized[\"prob\"].clip(1e-9, 1-1e-9).to_numpy()\n",
    "    auc_recent = float(roc_auc_score(y_true, y_prob))\n",
    "    auc_ok = (auc_recent >= AUC_MIN)\n",
    "\n",
    "# Decide policy and dynamic threshold\n",
    "if not auc_ok:\n",
    "    # Pause trading: hold cash\n",
    "    sig[\"signal_dyn\"] = 0\n",
    "    tau_dyn = None\n",
    "    policy = f\"PAUSE (AUC_recent={auc_recent:.3f} < {AUC_MIN})\" if np.isfinite(auc_recent) else \"PAUSE (AUC undefined)\"\n",
    "else:\n",
    "    # Dynamic τ to hit target coverage over the last POLICY_LOOKBACK probs\n",
    "    probs_window = sig[\"prob\"].tail(POLICY_LOOKBACK).to_numpy()\n",
    "    if len(probs_window) >= 10:\n",
    "        tau_dyn = float(np.quantile(probs_window, 1.0 - COV_TARGET))\n",
    "    else:\n",
    "        tau_dyn = TAU_FALLBACK\n",
    "    sig[\"signal_dyn\"] = (sig[\"prob\"] >= tau_dyn).astype(int)\n",
    "    policy = f\"DYNAMIC τ={tau_dyn:.3f} (target cov≈{int(COV_TARGET*100)}%)\"\n",
    "\n",
    "# Build returns & equity for dynamic policy\n",
    "sig[\"signal_dyn_prev\"] = sig[\"signal_dyn\"].shift(1).fillna(0).astype(int)\n",
    "sig[\"flip_dyn\"] = (sig[\"signal_dyn\"] != sig[\"signal_dyn_prev\"]).astype(int)\n",
    "sig[\"strategy_ret_dyn\"] = (sig[\"signal_dyn\"] * sig[\"ret_next\"]) - sig[\"flip_dyn\"] * FEE\n",
    "sig[\"strategy_ret_dyn\"] = sig[\"strategy_ret_dyn\"].fillna(0.0)\n",
    "sig[\"equity_dyn\"] = (1 + sig[\"strategy_ret_dyn\"]).cumprod()\n",
    "\n",
    "# KPIs over last 60 trading days\n",
    "last_n = 60\n",
    "r60 = sig[\"strategy_ret_dyn\"].tail(last_n).fillna(0.0)\n",
    "eq60 = (1 + r60).cumprod()\n",
    "def kpis(r, eq, freq=252):\n",
    "    cagr = (1 + r).prod() ** (freq / max(len(r),1)) - 1\n",
    "    vol  = r.std() * np.sqrt(freq)\n",
    "    sharpe = cagr/vol if vol>0 else np.nan\n",
    "    mdd = (eq/eq.cummax() - 1).min() if len(eq)>0 else np.nan\n",
    "    return dict(CAGR=cagr, Sharpe=sharpe, Vol=vol, MaxDD=mdd)\n",
    "\n",
    "k = {k_: round(v,4) if np.isfinite(v) else None for k_,v in kpis(r60, eq60).items()}\n",
    "cov_dyn = float(sig[\"signal_dyn\"].tail(last_n).mean())\n",
    "tov_dyn = float(sig[\"flip_dyn\"].tail(last_n).mean())\n",
    "trades  = int(sig[\"flip_dyn\"].tail(last_n).sum())\n",
    "\n",
    "print(f\"Policy: {policy} | AUC_recent={auc_recent if np.isfinite(auc_recent) else 'NA'} | \"\n",
    "      f\"Coverage60={cov_dyn:.3f} | Turnover60={tov_dyn:.3f} | Trades60={trades}\")\n",
    "print(\"Dynamic 60d KPIs:\", k)\n",
    "\n",
    "# Save alongside static signals\n",
    "outp = DATA_DIR/\"signals_dynamic.csv\"\n",
    "sig.to_csv(outp, index=False)\n",
    "print(\"Saved dynamic signals →\", outp.as_posix())\n"
   ]
  },
  {
   "cell_type": "code",
   "execution_count": 18,
   "id": "95027595",
   "metadata": {},
   "outputs": [
    {
     "name": "stdout",
     "output_type": "stream",
     "text": [
      "Wrote: artifacts\\monitor_snapshot.json\n",
      "Status: OK | Issues: []\n"
     ]
    }
   ],
   "source": [
    "# --- Build snapshot & alerts ---\n",
    "issues = []\n",
    "\n",
    "if pd.notnull(k.get(\"Sharpe\")):\n",
    "    if k[\"Sharpe\"] < ALERT_MIN_SHARPE: issues.append(f\"Sharpe60<{ALERT_MIN_SHARPE}\")\n",
    "    elif k[\"Sharpe\"] < WARN_MIN_SHARPE: issues.append(f\"Sharpe60<{WARN_MIN_SHARPE}\")\n",
    "\n",
    "if cov_60 < MIN_COVERAGE: issues.append(f\"Coverage60<{MIN_COVERAGE}\")\n",
    "if tov_60 > MAX_TURNOVER: issues.append(f\"Turnover60>{MAX_TURNOVER}\")\n",
    "\n",
    "if drift_summary[\"min_p_value\"] is not None and drift_summary[\"min_p_value\"] < MIN_DRIFT_P:\n",
    "    issues.append(f\"Drift p<{MIN_DRIFT_P} ({drift_summary['worst_feature']})\")\n",
    "\n",
    "status = \"ALERT\" if any(tag.startswith(\"Sharpe60<\"+str(ALERT_MIN_SHARPE)) for tag in issues) else (\"WARN\" if issues else \"OK\")\n",
    "\n",
    "snapshot = {\n",
    "    \"as_of\": str(signals[\"date\"].max().date()),\n",
    "    \"window_days\": LAST_N,\n",
    "    \"kpis\": k_rounded,\n",
    "    \"classification\": {\"AUC\": round(auc_60,3) if pd.notnull(auc_60) else None,\n",
    "                       \"Brier\": round(brier_60,4) if pd.notnull(brier_60) else None,\n",
    "                       \"realized_days\": int(len(realized))},\n",
    "    \"coverage\": cov_60, \"turnover\": tov_60, \"trades\": trd_60, \"hit_cond\": None if np.isnan(cond_hit) else float(cond_hit),\n",
    "    \"drift\": drift_summary,\n",
    "    \"paper\": paper,\n",
    "    \"issues\": issues,\n",
    "    \"status\": status\n",
    "}\n",
    "\n",
    "snap_path = ART/\"monitor_snapshot.json\"\n",
    "snap_path.write_text(json.dumps(snapshot, indent=2), encoding=\"utf-8\")\n",
    "print(\"Wrote:\", snap_path)\n",
    "print(\"Status:\", status, \"| Issues:\", issues)\n"
   ]
  },
  {
   "cell_type": "code",
   "execution_count": 19,
   "id": "c834ec43",
   "metadata": {},
   "outputs": [
    {
     "ename": "NameError",
     "evalue": "name 'TAU' is not defined",
     "output_type": "error",
     "traceback": [
      "\u001b[31m---------------------------------------------------------------------------\u001b[39m",
      "\u001b[31mNameError\u001b[39m                                 Traceback (most recent call last)",
      "\u001b[36mCell\u001b[39m\u001b[36m \u001b[39m\u001b[32mIn[19]\u001b[39m\u001b[32m, line 5\u001b[39m\n\u001b[32m      3\u001b[39m bh = (\u001b[32m1\u001b[39m + signals[\u001b[33m\"\u001b[39m\u001b[33mret_next\u001b[39m\u001b[33m\"\u001b[39m].fillna(\u001b[32m0.0\u001b[39m)).cumprod()\n\u001b[32m      4\u001b[39m plt.plot(signals[\u001b[33m\"\u001b[39m\u001b[33mdate\u001b[39m\u001b[33m\"\u001b[39m], bh, label=\u001b[33m\"\u001b[39m\u001b[33mBuy & Hold\u001b[39m\u001b[33m\"\u001b[39m)\n\u001b[32m----> \u001b[39m\u001b[32m5\u001b[39m plt.plot(signals[\u001b[33m\"\u001b[39m\u001b[33mdate\u001b[39m\u001b[33m\"\u001b[39m], signals[\u001b[33m\"\u001b[39m\u001b[33mequity\u001b[39m\u001b[33m\"\u001b[39m], label=\u001b[33mf\u001b[39m\u001b[33m\"\u001b[39m\u001b[33mStatic τ=\u001b[39m\u001b[38;5;132;01m{\u001b[39;00m\u001b[43mTAU\u001b[49m\u001b[38;5;132;01m:\u001b[39;00m\u001b[33m.2f\u001b[39m\u001b[38;5;132;01m}\u001b[39;00m\u001b[33m\"\u001b[39m)\n\u001b[32m      6\u001b[39m plt.plot(sig[\u001b[33m\"\u001b[39m\u001b[33mdate\u001b[39m\u001b[33m\"\u001b[39m], sig[\u001b[33m\"\u001b[39m\u001b[33mequity_dyn\u001b[39m\u001b[33m\"\u001b[39m], label=\u001b[33m\"\u001b[39m\u001b[33mDynamic policy\u001b[39m\u001b[33m\"\u001b[39m, linewidth=\u001b[32m2\u001b[39m, alpha=\u001b[32m0.85\u001b[39m)\n\u001b[32m      7\u001b[39m plt.title(\u001b[33m\"\u001b[39m\u001b[33mEquity — Static vs Dynamic Policy (Paper Trading)\u001b[39m\u001b[33m\"\u001b[39m)\n",
      "\u001b[31mNameError\u001b[39m: name 'TAU' is not defined"
     ]
    },
    {
     "data": {
      "image/png": "[encoded data removed]",
      "text/plain": [
       "<Figure size 900x450 with 1 Axes>"
      ]
     },
     "metadata": {},
     "output_type": "display_data"
    }
   ],
   "source": [
    "# --- Plot static vs dynamic policy (optional) ---\n",
    "plt.figure(figsize=(9,4.5))\n",
    "bh = (1 + signals[\"ret_next\"].fillna(0.0)).cumprod()\n",
    "plt.plot(signals[\"date\"], bh, label=\"Buy & Hold\")\n",
    "plt.plot(signals[\"date\"], signals[\"equity\"], label=f\"Static τ={TAU:.2f}\")\n",
    "plt.plot(sig[\"date\"], sig[\"equity_dyn\"], label=\"Dynamic policy\", linewidth=2, alpha=0.85)\n",
    "plt.title(\"Equity — Static vs Dynamic Policy (Paper Trading)\")\n",
    "plt.xlabel(\"Date\"); plt.ylabel(\"Equity (×)\")\n",
    "plt.legend()\n",
    "plt.tight_layout()\n",
    "plt.savefig(FIG_DIR/\"equity_curve_live_policies.png\", dpi=140)\n",
    "plt.show()\n",
    "print(\"Saved:\", FIG_DIR/\"equity_curve_live_policies.png\")\n"
   ]
  },
  {
   "cell_type": "code",
   "execution_count": null,
   "id": "d1e503be",
   "metadata": {},
   "outputs": [
    {
     "name": "stdout",
     "output_type": "stream",
     "text": [
      "=== NB11 VERIFIER ===\n",
      "Files: {'monitor_snapshot.json': True, 'status_nb11.png': True}\n",
      "Signals tail:\n"
     ]
    },
    {
     "data": {
      "text/html": [
       "<div>\n",
       "<style scoped>\n",
       "    .dataframe tbody tr th:only-of-type {\n",
       "        vertical-align: middle;\n",
       "    }\n",
       "\n",
       "    .dataframe tbody tr th {\n",
       "        vertical-align: top;\n",
       "    }\n",
       "\n",
       "    .dataframe thead th {\n",
       "        text-align: right;\n",
       "    }\n",
       "</style>\n",
       "<table border=\"1\" class=\"dataframe\">\n",
       "  <thead>\n",
       "    <tr style=\"text-align: right;\">\n",
       "      <th></th>\n",
       "      <th>date</th>\n",
       "      <th>prob</th>\n",
       "      <th>signal</th>\n",
       "      <th>ret_next</th>\n",
       "      <th>strategy_ret</th>\n",
       "      <th>equity</th>\n",
       "    </tr>\n",
       "  </thead>\n",
       "  <tbody>\n",
       "    <tr>\n",
       "      <th>2683</th>\n",
       "      <td>2025-10-08</td>\n",
       "      <td>0.528984</td>\n",
       "      <td>0</td>\n",
       "      <td>-0.015578</td>\n",
       "      <td>-0.0</td>\n",
       "      <td>1.217782</td>\n",
       "    </tr>\n",
       "    <tr>\n",
       "      <th>2684</th>\n",
       "      <td>2025-10-09</td>\n",
       "      <td>0.561558</td>\n",
       "      <td>0</td>\n",
       "      <td>-0.034522</td>\n",
       "      <td>-0.0</td>\n",
       "      <td>1.217782</td>\n",
       "    </tr>\n",
       "    <tr>\n",
       "      <th>2685</th>\n",
       "      <td>2025-10-10</td>\n",
       "      <td>0.565084</td>\n",
       "      <td>0</td>\n",
       "      <td>NaN</td>\n",
       "      <td>0.0</td>\n",
       "      <td>1.217782</td>\n",
       "    </tr>\n",
       "  </tbody>\n",
       "</table>\n",
       "</div>"
      ],
      "text/plain": [
       "           date      prob  signal  ret_next  strategy_ret    equity\n",
       "2683 2025-10-08  0.528984       0 -0.015578          -0.0  1.217782\n",
       "2684 2025-10-09  0.561558       0 -0.034522          -0.0  1.217782\n",
       "2685 2025-10-10  0.565084       0       NaN           0.0  1.217782"
      ]
     },
     "metadata": {},
     "output_type": "display_data"
    },
    {
     "name": "stdout",
     "output_type": "stream",
     "text": [
      "Snapshot status: ALERT | Issues: ['Sharpe60<-0.5']\n",
      "KPIs: {'CAGR': -0.1805, 'Sharpe': -2.8498, 'Vol': 0.0633, 'Hit': 0.0167}\n",
      "Cls: {'AUC': 0.308, 'Brier': 0.2703, 'realized_days': 59}\n",
      "\n",
      "VERDICT: PASS ✅\n"
     ]
    }
   ],
   "source": [
    "# --- NB11 Verifier ---\n",
    "ok_json = (ART/\"monitor_snapshot.json\").exists()\n",
    "ok_png  = (FIG/\"status_nb11.png\").exists()\n",
    "tail_sig = signals.tail(3)[[\"date\",\"prob\",\"signal\",\"ret_next\",\"strategy_ret\",\"equity\"]]\n",
    "\n",
    "print(\"=== NB11 VERIFIER ===\")\n",
    "print(\"Files:\", {\"monitor_snapshot.json\": ok_json, \"status_nb11.png\": ok_png})\n",
    "print(\"Signals tail:\")\n",
    "display(tail_sig)\n",
    "\n",
    "if ok_json:\n",
    "    snap = json.loads((ART/\"monitor_snapshot.json\").read_text(encoding=\"utf-8\"))\n",
    "    print(\"Snapshot status:\", snap.get(\"status\"), \"| Issues:\", snap.get(\"issues\"))\n",
    "    print(\"KPIs:\", snap.get(\"kpis\"))\n",
    "    print(\"Cls:\", snap.get(\"classification\"))\n",
    "\n",
    "print(\"\\nVERDICT:\", \"PASS ✅\" if (ok_json and ok_png) else \"CHECK ⚠️\")\n"
   ]
  }
 ],
 "metadata": {
  "kernelspec": {
   "display_name": "ml-env",
   "language": "python",
   "name": "python3"
  },
  "language_info": {
   "codemirror_mode": {
    "name": "ipython",
    "version": 3
   },
   "file_extension": ".py",
   "mimetype": "text/x-python",
   "name": "python",
   "nbconvert_exporter": "python",
   "pygments_lexer": "ipython3",
   "version": "3.13.7"
  }
 },
 "nbformat": 4,
 "nbformat_minor": 5
}
