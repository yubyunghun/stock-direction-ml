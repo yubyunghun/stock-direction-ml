{
 "cells": [
  {
   "cell_type": "code",
   "execution_count": 19,
   "id": "23b2a468",
   "metadata": {},
   "outputs": [
    {
     "name": "stdout",
     "output_type": "stream",
     "text": [
      "Daily inference config → τ=0.590 | fee=5.0 bps | slippage=0.0 bps\n"
     ]
    }
   ],
   "source": [
    "# --- NB10: Imports & run config ---\n",
    "import json, re, math, warnings\n",
    "from pathlib import Path\n",
    "\n",
    "import numpy as np\n",
    "import pandas as pd\n",
    "from joblib import load\n",
    "\n",
    "# Paths\n",
    "DATA_DIR = Path(\"data\")\n",
    "ART_DIR  = Path(\"artifacts\")\n",
    "FIG_DIR  = Path(\"reports/figures\")\n",
    "for p in [DATA_DIR, ART_DIR, FIG_DIR]: p.mkdir(parents=True, exist_ok=True)\n",
    "\n",
    "# Trading policy\n",
    "FEE_BPS = 5.0          # one-way (apply on flips)\n",
    "SLIPPAGE_BPS = 0.0     # placeholder (not applied unless you want to)\n",
    "TAU_DEFAULT = 0.59     # fallback if no artifact\n",
    "\n",
    "# Load τ from artifacts if present (prefer backtest_summary.json, else threshold.json)\n",
    "TAU = TAU_DEFAULT\n",
    "bs = ART_DIR / \"backtest_summary.json\"\n",
    "thr = ART_DIR / \"threshold.json\"\n",
    "try:\n",
    "    if bs.exists():\n",
    "        j = json.loads(bs.read_text(encoding=\"utf-8\"))\n",
    "        TAU = float(j[\"models\"][\"LR\"][\"tau\"])\n",
    "    elif thr.exists():\n",
    "        tj = json.loads(thr.read_text(encoding=\"utf-8\"))\n",
    "        if isinstance(tj, dict):\n",
    "            if \"threshold\" in tj: TAU = float(tj[\"threshold\"])\n",
    "            elif \"LR\" in tj and \"tau\" in tj[\"LR\"]: TAU = float(tj[\"LR\"][\"tau\"])\n",
    "            elif \"tau\" in tj: TAU = float(tj[\"tau\"])\n",
    "except Exception as e:\n",
    "    warnings.warn(f\"Could not read tau from artifacts, using default {TAU_DEFAULT}. Error: {e}\")\n",
    "\n",
    "print(f\"Daily inference config → τ={TAU:.3f} | fee={FEE_BPS} bps | slippage={SLIPPAGE_BPS} bps\")\n"
   ]
  },
  {
   "cell_type": "code",
   "execution_count": 20,
   "id": "8d749ba4",
   "metadata": {},
   "outputs": [
    {
     "name": "stdout",
     "output_type": "stream",
     "text": [
      "Rows: 2686  |  Span: 2015-02-06 → 2025-10-10  |  Pos rate: 0.530\n"
     ]
    }
   ],
   "source": [
    "# --- Load df_nb02 (CSV/Parquet) & ensure 'date' and 'y' ---\n",
    "df_path = DATA_DIR/\"df_nb02.parquet\" if (DATA_DIR/\"df_nb02.parquet\").exists() else DATA_DIR/\"df_nb02.csv\"\n",
    "df = pd.read_parquet(df_path) if df_path.suffix==\".parquet\" else pd.read_csv(df_path, parse_dates=[\"date\"])\n",
    "df[\"date\"] = pd.to_datetime(df[\"date\"], errors=\"coerce\")\n",
    "df = df.dropna(subset=[\"date\"]).sort_values(\"date\").reset_index(drop=True)\n",
    "\n",
    "# Label if missing: next-day direction\n",
    "label_col = next((c for c in [\"y\",\"target\",\"label\",\"y_next_up\"] if c in df.columns), None)\n",
    "if label_col is None:\n",
    "    price_col = next((c for c in [\"ret1\",\"close\",\"Close\",\"Adj Close\",\"adj_close\"] if c in df.columns), None)\n",
    "    if price_col is None: raise RuntimeError(\"No label & no price/ret1 columns to derive it.\")\n",
    "    if price_col == \"ret1\":\n",
    "        df[\"y\"] = (df[\"ret1\"].shift(-1) > 0).astype(int)\n",
    "    else:\n",
    "        df[\"y\"] = (pd.Series(df[price_col]).pct_change().shift(-1) > 0).astype(int)\n",
    "elif label_col != \"y\":\n",
    "    df[\"y\"] = df[label_col].astype(int)\n",
    "\n",
    "print(f\"Rows: {len(df)}  |  Span: {df['date'].min().date()} → {df['date'].max().date()}  |  Pos rate: {df['y'].mean():.3f}\")\n"
   ]
  },
  {
   "cell_type": "code",
   "execution_count": 21,
   "id": "7e52b9d3",
   "metadata": {},
   "outputs": [
    {
     "name": "stdout",
     "output_type": "stream",
     "text": [
      "Features: 16  |  First 5: ['close', 'high', 'low', 'macd', 'macd_signal']\n"
     ]
    }
   ],
   "source": [
    "# --- Load LR, scaler, and leak-safe feature list ---\n",
    "lr = load(ART_DIR/\"lr.joblib\")\n",
    "scaler = load(ART_DIR/\"scaler.joblib\") if (ART_DIR/\"scaler.joblib\").exists() else None\n",
    "\n",
    "feat_cols = json.loads((ART_DIR/\"feature_list.json\").read_text(encoding=\"utf-8\"))\n",
    "LEAK_WORDS = re.compile(r\"(next|lead|t\\+|ahead|future|target|label)$\", re.I)\n",
    "BAD = {\"y\",\"ret_next\",\"y_next_up\",\"target\",\"label\"}\n",
    "\n",
    "feat_cols = [c for c in feat_cols if c in df.columns and c not in BAD and not LEAK_WORDS.search(c)]\n",
    "feat_cols = [c for c in feat_cols if pd.api.types.is_numeric_dtype(df[c])]\n",
    "assert \"y\" not in feat_cols and \"ret_next\" not in feat_cols, \"Leak columns slipped into features.\"\n",
    "\n",
    "print(f\"Features: {len(feat_cols)}  |  First 5: {feat_cols[:5]}\")\n"
   ]
  },
  {
   "cell_type": "code",
   "execution_count": 22,
   "id": "0415d5e1",
   "metadata": {},
   "outputs": [
    {
     "data": {
      "text/html": [
       "<div>\n",
       "<style scoped>\n",
       "    .dataframe tbody tr th:only-of-type {\n",
       "        vertical-align: middle;\n",
       "    }\n",
       "\n",
       "    .dataframe tbody tr th {\n",
       "        vertical-align: top;\n",
       "    }\n",
       "\n",
       "    .dataframe thead th {\n",
       "        text-align: right;\n",
       "    }\n",
       "</style>\n",
       "<table border=\"1\" class=\"dataframe\">\n",
       "  <thead>\n",
       "    <tr style=\"text-align: right;\">\n",
       "      <th></th>\n",
       "      <th>date</th>\n",
       "      <th>close</th>\n",
       "      <th>prob</th>\n",
       "      <th>signal</th>\n",
       "      <th>ret_next</th>\n",
       "      <th>signal_prev</th>\n",
       "      <th>flip</th>\n",
       "      <th>strategy_ret</th>\n",
       "      <th>equity</th>\n",
       "    </tr>\n",
       "  </thead>\n",
       "  <tbody>\n",
       "    <tr>\n",
       "      <th>2681</th>\n",
       "      <td>2025-10-06</td>\n",
       "      <td>256.690002</td>\n",
       "      <td>0.536564</td>\n",
       "      <td>0</td>\n",
       "      <td>-0.000818</td>\n",
       "      <td>0</td>\n",
       "      <td>0</td>\n",
       "      <td>-0.0</td>\n",
       "      <td>1.217782</td>\n",
       "    </tr>\n",
       "    <tr>\n",
       "      <th>2682</th>\n",
       "      <td>2025-10-07</td>\n",
       "      <td>256.480011</td>\n",
       "      <td>0.542238</td>\n",
       "      <td>0</td>\n",
       "      <td>0.006160</td>\n",
       "      <td>0</td>\n",
       "      <td>0</td>\n",
       "      <td>0.0</td>\n",
       "      <td>1.217782</td>\n",
       "    </tr>\n",
       "    <tr>\n",
       "      <th>2683</th>\n",
       "      <td>2025-10-08</td>\n",
       "      <td>258.059998</td>\n",
       "      <td>0.528984</td>\n",
       "      <td>0</td>\n",
       "      <td>-0.015578</td>\n",
       "      <td>0</td>\n",
       "      <td>0</td>\n",
       "      <td>-0.0</td>\n",
       "      <td>1.217782</td>\n",
       "    </tr>\n",
       "    <tr>\n",
       "      <th>2684</th>\n",
       "      <td>2025-10-09</td>\n",
       "      <td>254.039993</td>\n",
       "      <td>0.561558</td>\n",
       "      <td>0</td>\n",
       "      <td>-0.034522</td>\n",
       "      <td>0</td>\n",
       "      <td>0</td>\n",
       "      <td>-0.0</td>\n",
       "      <td>1.217782</td>\n",
       "    </tr>\n",
       "    <tr>\n",
       "      <th>2685</th>\n",
       "      <td>2025-10-10</td>\n",
       "      <td>245.270004</td>\n",
       "      <td>0.565084</td>\n",
       "      <td>0</td>\n",
       "      <td>NaN</td>\n",
       "      <td>0</td>\n",
       "      <td>0</td>\n",
       "      <td>0.0</td>\n",
       "      <td>1.217782</td>\n",
       "    </tr>\n",
       "  </tbody>\n",
       "</table>\n",
       "</div>"
      ],
      "text/plain": [
       "           date       close      prob  signal  ret_next  signal_prev  flip  \\\n",
       "2681 2025-10-06  256.690002  0.536564       0 -0.000818            0     0   \n",
       "2682 2025-10-07  256.480011  0.542238       0  0.006160            0     0   \n",
       "2683 2025-10-08  258.059998  0.528984       0 -0.015578            0     0   \n",
       "2684 2025-10-09  254.039993  0.561558       0 -0.034522            0     0   \n",
       "2685 2025-10-10  245.270004  0.565084       0       NaN            0     0   \n",
       "\n",
       "      strategy_ret    equity  \n",
       "2681          -0.0  1.217782  \n",
       "2682           0.0  1.217782  \n",
       "2683          -0.0  1.217782  \n",
       "2684          -0.0  1.217782  \n",
       "2685           0.0  1.217782  "
      ]
     },
     "execution_count": 22,
     "metadata": {},
     "output_type": "execute_result"
    }
   ],
   "source": [
    "# --- Predict probabilities for all available dates (idempotent) ---\n",
    "X = df[feat_cols].fillna(0.0).to_numpy()\n",
    "if scaler is not None:\n",
    "    Xs = scaler.transform(X)\n",
    "else:\n",
    "    Xs = X\n",
    "\n",
    "p = lr.predict_proba(Xs)[:,1]\n",
    "sig = (p >= TAU).astype(int)\n",
    "\n",
    "# Build base signals frame\n",
    "price_col = next((c for c in [\"close\",\"Close\",\"Adj Close\",\"adj_close\"] if c in df.columns), None)\n",
    "if price_col is None: raise RuntimeError(\"No close price column found for returns.\")\n",
    "\n",
    "signals = pd.DataFrame({\n",
    "    \"date\": df[\"date\"],\n",
    "    \"close\": df[price_col].astype(float),\n",
    "    \"prob\": p,\n",
    "    \"signal\": sig\n",
    "})\n",
    "# Realized next-day returns if known\n",
    "signals[\"ret_next\"] = signals[\"close\"].pct_change().shift(-1)\n",
    "\n",
    "# Trades: apply fee on position flips\n",
    "signals[\"signal_prev\"] = signals[\"signal\"].shift(1).fillna(0).astype(int)\n",
    "signals[\"flip\"] = (signals[\"signal\"] != signals[\"signal_prev\"]).astype(int)\n",
    "fee = FEE_BPS / 10000.0\n",
    "signals[\"strategy_ret\"] = signals[\"signal\"] * signals[\"ret_next\"] - signals[\"flip\"] * fee\n",
    "signals[\"strategy_ret\"] = signals[\"strategy_ret\"].fillna(0.0)\n",
    "signals[\"equity\"] = (1 + signals[\"strategy_ret\"]).cumprod()\n",
    "\n",
    "signals.tail(5)\n"
   ]
  },
  {
   "cell_type": "code",
   "execution_count": 23,
   "id": "b5974b85",
   "metadata": {},
   "outputs": [
    {
     "name": "stdout",
     "output_type": "stream",
     "text": [
      "Saved: data\\signals.csv | artifacts/paper_trade.json\n",
      "As of: 2025-10-10 | Equity ×: 1.2178 | 1y turnover: 0.0873\n"
     ]
    }
   ],
   "source": [
    "# --- Save / update artifacts ---\n",
    "sig_path = DATA_DIR/\"signals.csv\"\n",
    "signals.to_csv(sig_path, index=False)\n",
    "\n",
    "paper = {\n",
    "    \"tau\": float(TAU),\n",
    "    \"fee_bps\": float(FEE_BPS),\n",
    "    \"slippage_bps\": float(SLIPPAGE_BPS),\n",
    "    \"as_of\": str(signals[\"date\"].max().date()),\n",
    "    \"rows\": int(len(signals)),\n",
    "    \"equity\": float(signals[\"equity\"].iloc[-1]),\n",
    "    \"turnover\": float((signals[\"flip\"].rolling(252, min_periods=1).sum() / 252.0).iloc[-1]),\n",
    "}\n",
    "(ART_DIR/\"paper_trade.json\").write_text(json.dumps(paper, indent=2), encoding=\"utf-8\")\n",
    "\n",
    "print(\"Saved:\", sig_path, \"| artifacts/paper_trade.json\")\n",
    "print(\"As of:\", paper[\"as_of\"], \"| Equity ×:\", round(paper[\"equity\"], 4), \"| 1y turnover:\", round(paper[\"turnover\"], 4))\n"
   ]
  },
  {
   "cell_type": "code",
   "execution_count": 24,
   "id": "6796d74d",
   "metadata": {},
   "outputs": [
    {
     "data": {
      "image/png": "[encoded data removed]",
      "text/plain": [
       "<Figure size 900x450 with 1 Axes>"
      ]
     },
     "metadata": {},
     "output_type": "display_data"
    },
    {
     "name": "stdout",
     "output_type": "stream",
     "text": [
      "Saved figure: reports\\figures\\equity_curve_live.png\n"
     ]
    }
   ],
   "source": [
    "# --- Equity curve (strategy vs buy & hold) ---\n",
    "import matplotlib.pyplot as plt\n",
    "\n",
    "bh = (1 + signals[\"ret_next\"].fillna(0.0)).cumprod()\n",
    "\n",
    "plt.figure(figsize=(9,4.5))\n",
    "plt.plot(signals[\"date\"], bh, label=\"Buy & Hold\")\n",
    "plt.plot(signals[\"date\"], signals[\"equity\"], label=f\"Strategy τ={TAU:.2f}\")\n",
    "plt.title(\"Equity Curve — Paper Trading (Daily)\")\n",
    "plt.xlabel(\"Date\"); plt.ylabel(\"Equity (×)\")\n",
    "plt.legend()\n",
    "plt.tight_layout()\n",
    "fig_path = FIG_DIR/\"equity_curve_live.png\"\n",
    "plt.savefig(fig_path, dpi=140)\n",
    "plt.show()\n",
    "print(\"Saved figure:\", fig_path)\n"
   ]
  },
  {
   "cell_type": "code",
   "execution_count": 25,
   "id": "e5285b90",
   "metadata": {},
   "outputs": [
    {
     "name": "stdout",
     "output_type": "stream",
     "text": [
      "Last 60d — {'CAGR': np.float64(-0.1805), 'Sharpe': np.float64(-2.8498), 'Vol': np.float64(0.0633), 'Hit': np.float64(0.0167)} | Coverage: 0.183 | Turnover: 0.100 | Trades: 6 | Hit_cond: 0.071\n"
     ]
    }
   ],
   "source": [
    "# --- Rolling 60d KPIs (improved reporting) ---\n",
    "def kpis_from_ret(r, freq=252):\n",
    "    r = pd.Series(r).dropna()\n",
    "    if len(r)==0: \n",
    "        return dict(CAGR=np.nan, Sharpe=np.nan, Vol=np.nan, Hit=np.nan)\n",
    "    eq = (1 + r).cumprod()\n",
    "    cagr = (1 + r).prod() ** (freq / len(r)) - 1\n",
    "    vol  = r.std() * np.sqrt(freq)\n",
    "    sharpe = cagr/vol if vol>0 else np.nan\n",
    "    hit = (r > 0).mean()\n",
    "    return dict(CAGR=cagr, Sharpe=sharpe, Vol=vol, Hit=hit)\n",
    "\n",
    "last_n = 60\n",
    "r_60 = signals[\"strategy_ret\"].tail(last_n)\n",
    "\n",
    "# Conditional hit rate (only when in a position OR flipping)\n",
    "mask_traded = (signals[\"signal\"].tail(last_n) == 1) | (signals[\"flip\"].tail(last_n) == 1)\n",
    "r_60_traded = r_60[mask_traded]\n",
    "hit_cond = float((r_60_traded > 0).mean()) if len(r_60_traded) else np.nan\n",
    "\n",
    "k_60 = {k: round(v,4) if pd.notnull(v) else None for k,v in kpis_from_ret(r_60).items()}\n",
    "coverage_60 = float(signals[\"signal\"].tail(last_n).mean())\n",
    "turnover_60 = float(signals[\"flip\"].tail(last_n).mean())\n",
    "trades_60   = int(signals[\"flip\"].tail(last_n).sum())\n",
    "\n",
    "print(\n",
    "    \"Last 60d —\", k_60,\n",
    "    f\"| Coverage: {coverage_60:.3f} | Turnover: {turnover_60:.3f} | Trades: {trades_60} | Hit_cond: {hit_cond:.3f}\"\n",
    ")\n"
   ]
  },
  {
   "cell_type": "code",
   "execution_count": 26,
   "id": "a0f05507",
   "metadata": {},
   "outputs": [
    {
     "name": "stdout",
     "output_type": "stream",
     "text": [
      "Drift check skipped (scipy not available or error). X has 11 features, but StandardScaler is expecting 16 features as input.\n"
     ]
    },
    {
     "name": "stderr",
     "output_type": "stream",
     "text": [
      "c:\\.projects\\ml-env\\Lib\\site-packages\\sklearn\\utils\\validation.py:2742: UserWarning: X has feature names, but StandardScaler was fitted without feature names\n",
      "  warnings.warn(\n"
     ]
    }
   ],
   "source": [
    "# --- Feature drift (KS) last 60–120d vs training on STANDARDIZED features ---\n",
    "try:\n",
    "    from scipy.stats import ks_2samp\n",
    "\n",
    "    # Train window = first 60% (same assumption as earlier notebooks)\n",
    "    n = len(df); n_tr = int(0.6*n)\n",
    "    df_tr = df.iloc[:n_tr].copy()\n",
    "    # Live window = last ~120 calendar days present\n",
    "    cut = signals[\"date\"].max() - pd.Timedelta(days=120)\n",
    "    df_live = df[df[\"date\"] >= cut].copy()\n",
    "\n",
    "    # Exclude raw OHLC-type columns from drift (they drift by design)\n",
    "    EXCLUDE = {\"open\",\"high\",\"low\",\"close\",\"volume\",\"Open\",\"High\",\"Low\",\"Close\",\"Adj Close\",\"adj_close\"}\n",
    "    feat_for_drift = [c for c in feat_cols if c not in EXCLUDE and pd.api.types.is_numeric_dtype(df[c])]\n",
    "\n",
    "    rows = []\n",
    "    if scaler is not None and len(feat_for_drift) > 0:\n",
    "        # Standardize both windows with the TRAINED scaler\n",
    "        X_tr_z = pd.DataFrame(scaler.transform(df_tr[feat_for_drift].fillna(0.0)), columns=feat_for_drift)\n",
    "        X_lv_z = pd.DataFrame(scaler.transform(df_live[feat_for_drift].fillna(0.0)), columns=feat_for_drift)\n",
    "\n",
    "        for c in feat_for_drift:\n",
    "            a = pd.to_numeric(X_tr_z[c], errors=\"coerce\").dropna()\n",
    "            b = pd.to_numeric(X_lv_z[c], errors=\"coerce\").dropna()\n",
    "            if len(a)>80 and len(b)>40:\n",
    "                stat, p = ks_2samp(a, b, alternative=\"two-sided\", mode=\"auto\")\n",
    "                rows.append({\"feature\": c, \"ks_stat\": float(stat), \"p_value\": float(p), \"n_train\": int(len(a)), \"n_live\": int(len(b))})\n",
    "    else:\n",
    "        print(\"Note: scaler not available or no eligible features; skipping standardized drift.\")\n",
    "\n",
    "    drift = pd.DataFrame(rows).sort_values(\"p_value\").reset_index(drop=True)\n",
    "    drift_path = DATA_DIR/\"feature_drift_live_standardized.csv\"\n",
    "    drift.to_csv(drift_path, index=False)\n",
    "    print(\"Drift (standardized) saved:\", drift_path, \"| worst 5:\")\n",
    "    display(drift.head(5))\n",
    "except Exception as e:\n",
    "    print(\"Drift check skipped (scipy not available or error).\", e)\n"
   ]
  }
 ],
 "metadata": {
  "kernelspec": {
   "display_name": "ml-env",
   "language": "python",
   "name": "python3"
  },
  "language_info": {
   "codemirror_mode": {
    "name": "ipython",
    "version": 3
   },
   "file_extension": ".py",
   "mimetype": "text/x-python",
   "name": "python",
   "nbconvert_exporter": "python",
   "pygments_lexer": "ipython3",
   "version": "3.13.7"
  }
 },
 "nbformat": 4,
 "nbformat_minor": 5
}
