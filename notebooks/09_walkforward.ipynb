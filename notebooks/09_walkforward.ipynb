{
 "cells": [
  {
   "cell_type": "markdown",
   "id": "b8d5e56c",
   "metadata": {},
   "source": [
    "# Phase 9 — Walk-Forward Backtest (Rolling Refit)\n",
    "\n",
    "Monthly walk-forward: train up to each month-end, predict the next month, roll.\n",
    "Compares to the static (Phase 7) backtest under the same fees.\n"
   ]
  },
  {
   "cell_type": "code",
   "execution_count": null,
   "id": "132f0016",
   "metadata": {
    "vscode": {
     "languageId": "plaintext"
    }
   },
   "outputs": [],
   "source": [
    "# --- Imports & params ---\n",
    "from pathlib import Path\n",
    "import json, math\n",
    "import numpy as np\n",
    "import pandas as pd\n",
    "from sklearn.pipeline import make_pipeline\n",
    "from sklearn.preprocessing import StandardScaler\n",
    "from sklearn.linear_model import LogisticRegression\n",
    "from sklearn.metrics import roc_auc_score\n",
    "import matplotlib.pyplot as plt\n",
    "\n",
    "DATA = Path(\"data\")\n",
    "ART  = Path(\"artifacts\")\n",
    "FIG  = Path(\"reports/figures\")\n",
    "FIG.mkdir(parents=True, exist_ok=True)\n",
    "\n",
    "# Fees/slippage in basis points per turnover (same idea as Phase 7)\n",
    "FEE_BPS      = 5.0\n",
    "SLIPPAGE_BPS = 0.0\n",
    "\n",
    "# Threshold (τ) – use artifacts if present, else default\n",
    "if (ART/\"threshold.json\").exists():\n",
    "    try:\n",
    "        TAU = float(json.load(open(ART/\"threshold.json\"))[\"LR\"][\"tau\"])\n",
    "    except Exception:\n",
    "        TAU = 0.54\n",
    "else:\n",
    "    TAU = 0.54\n",
    "\n",
    "print(\"Using τ =\", TAU, \"| Fees (bps):\", FEE_BPS, \"| Slippage (bps):\", SLIPPAGE_BPS)\n"
   ]
  }
 ],
 "metadata": {
  "language_info": {
   "name": "python"
  }
 },
 "nbformat": 4,
 "nbformat_minor": 5
}
