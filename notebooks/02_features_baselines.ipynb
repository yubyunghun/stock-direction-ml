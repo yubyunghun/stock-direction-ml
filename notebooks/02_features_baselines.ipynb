{
 "cells": [
  {
   "cell_type": "code",
   "execution_count": 3,
   "id": "e72ea0ac",
   "metadata": {},
   "outputs": [
    {
     "name": "stdout",
     "output_type": "stream",
     "text": [
      "Using: c:\\Users\\byu30\\.projects\\stock-direction-ml\\src\\market.py\n",
      "add_market_context head:\n",
      " def add_market_context(df: pd.DataFrame, start: str | None = None, end: str | None = None) -> pd.DataFrame:\n",
      "    \"\"\"\n",
      "    Join SPY & VIX by *date index* (avoids 'different levels' merge errors).\n",
      "    Adds columns: spy_close, mkt_ret1, mkt_ret5, vix_close, vix_chg1\n",
      "    \"\"\"\n",
      "    # -------- normalize left frame --------\n",
      "    left = df.copy()\n",
      "\n"
     ]
    }
   ],
   "source": [
    "import sys, os, importlib, inspect\n",
    "\n",
    "# 1) Make sure the repo root (which contains `src/`) is on sys.path.\n",
    "#    Since notebooks live in `notebooks/`, the repo root is one level up.\n",
    "sys.path.append(os.path.abspath(\"..\"))\n",
    "\n",
    "# 2) Import (and reload) your module so edits take effect.\n",
    "from src import market as market_mod\n",
    "importlib.reload(market_mod)\n",
    "\n",
    "# 3) Pull the function you need.\n",
    "from src.market import add_market_context\n",
    "\n",
    "# Optional: sanity check that we’re importing the file you just edited\n",
    "print(\"Using:\", market_mod.__file__)\n",
    "print(\"add_market_context head:\\n\",\n",
    "      \"\\n\".join(inspect.getsource(market_mod.add_market_context).splitlines()[:8]))\n"
   ]
  },
  {
   "cell_type": "code",
   "execution_count": 4,
   "id": "110d5fb8",
   "metadata": {},
   "outputs": [],
   "source": [
    "# --- Imports & hot-reload of local modules ---\n",
    "import sys, os\n",
    "from importlib import reload\n",
    "import numpy as np\n",
    "import pandas as pd\n",
    "\n",
    "# make repo root importable\n",
    "sys.path.append(os.path.abspath(\"..\"))\n",
    "\n",
    "# local modules\n",
    "from src import data as data_mod, features as features_mod, market as market_mod, utils as utils_mod\n",
    "reload(data_mod); reload(features_mod); reload(market_mod); reload(utils_mod)\n",
    "\n",
    "from src.data import get_data\n",
    "from src.features import add_features\n",
    "from src.market import add_market_context\n",
    "from src.utils import make_labels\n"
   ]
  },
  {
   "cell_type": "code",
   "execution_count": 5,
   "id": "202fe4cd",
   "metadata": {},
   "outputs": [
    {
     "name": "stdout",
     "output_type": "stream",
     "text": [
      "market.py path: c:\\Users\\byu30\\.projects\\stock-direction-ml\\src\\market.py\n",
      "First 25 lines of add_market_context:\n",
      " def add_market_context(df: pd.DataFrame, start: str | None = None, end: str | None = None) -> pd.DataFrame:\n",
      "    \"\"\"\n",
      "    Join SPY & VIX by *date index* (avoids 'different levels' merge errors).\n",
      "    Adds columns: spy_close, mkt_ret1, mkt_ret5, vix_close, vix_chg1\n",
      "    \"\"\"\n",
      "    # -------- normalize left frame --------\n",
      "    left = df.copy()\n",
      "\n",
      "    # If 'date' is not a column, try to bring it out of the index\n",
      "    if \"date\" not in left.columns:\n",
      "        idx_names = list(getattr(left.index, \"names\", []) or [])\n",
      "        if \"date\" in idx_names:\n",
      "            left = left.reset_index(\"date\")\n",
      "        else:\n",
      "            left = left.reset_index()\n",
      "\n",
      "    # Flatten MultiIndex columns if present\n",
      "    if isinstance(left.columns, pd.MultiIndex):\n",
      "        left.columns = [\n",
      "            (\"_\".join(map(str, c)).strip() if isinstance(c, tuple) else str(c)) for c in left.columns\n",
      "        ]\n",
      "\n",
      "    # Standardize date column and set as sole index\n",
      "    left[\"date\"] = pd.to_datetime(left[\"date\"]).dt.tz_localize(None)\n",
      "    left = left.set_index(\"date\")\n"
     ]
    }
   ],
   "source": [
    "import importlib, inspect, src.market as market_mod\n",
    "print(\"market.py path:\", market_mod.__file__)\n",
    "print(\"First 25 lines of add_market_context:\\n\", \"\\n\".join(inspect.getsource(market_mod.add_market_context).splitlines()[:25]))\n"
   ]
  },
  {
   "cell_type": "code",
   "execution_count": 6,
   "id": "d7a09969",
   "metadata": {},
   "outputs": [
    {
     "ename": "MergeError",
     "evalue": "Not allowed to merge between different levels. (1 levels on the left, 2 on the right)",
     "output_type": "error",
     "traceback": [
      "\u001b[31m---------------------------------------------------------------------------\u001b[39m",
      "\u001b[31mMergeError\u001b[39m                                Traceback (most recent call last)",
      "\u001b[36mCell\u001b[39m\u001b[36m \u001b[39m\u001b[32mIn[6]\u001b[39m\u001b[32m, line 9\u001b[39m\n\u001b[32m      7\u001b[39m df = get_data(TICKER, start=START, end=END)\n\u001b[32m      8\u001b[39m df = add_features(df)\n\u001b[32m----> \u001b[39m\u001b[32m9\u001b[39m df = \u001b[43madd_market_context\u001b[49m\u001b[43m(\u001b[49m\u001b[43mdf\u001b[49m\u001b[43m,\u001b[49m\u001b[43m \u001b[49m\u001b[43mstart\u001b[49m\u001b[43m=\u001b[49m\u001b[43mSTART\u001b[49m\u001b[43m,\u001b[49m\u001b[43m \u001b[49m\u001b[43mend\u001b[49m\u001b[43m=\u001b[49m\u001b[43mEND\u001b[49m\u001b[43m)\u001b[49m   \u001b[38;5;66;03m# NEW\u001b[39;00m\n\u001b[32m     10\u001b[39m df = make_labels(df, tau=TAU, dead_zone=DEAD_ZONE)\n\u001b[32m     12\u001b[39m \u001b[38;5;66;03m# If merge created any gaps, drop them\u001b[39;00m\n",
      "\u001b[36mFile \u001b[39m\u001b[32mc:\\Users\\byu30\\.projects\\stock-direction-ml\\src\\market.py:73\u001b[39m, in \u001b[36madd_market_context\u001b[39m\u001b[34m(df, start, end)\u001b[39m\n\u001b[32m     70\u001b[39m vix = vix.set_index(\u001b[33m\"\u001b[39m\u001b[33mdate\u001b[39m\u001b[33m\"\u001b[39m)\n\u001b[32m     72\u001b[39m \u001b[38;5;66;03m# -------- join on DatetimeIndex --------\u001b[39;00m\n\u001b[32m---> \u001b[39m\u001b[32m73\u001b[39m out = \u001b[43mleft\u001b[49m\u001b[43m.\u001b[49m\u001b[43mjoin\u001b[49m\u001b[43m(\u001b[49m\u001b[43mspy\u001b[49m\u001b[43m,\u001b[49m\u001b[43m \u001b[49m\u001b[43mhow\u001b[49m\u001b[43m=\u001b[49m\u001b[33;43m\"\u001b[39;49m\u001b[33;43mleft\u001b[39;49m\u001b[33;43m\"\u001b[39;49m\u001b[43m)\u001b[49m.join(vix, how=\u001b[33m\"\u001b[39m\u001b[33mleft\u001b[39m\u001b[33m\"\u001b[39m)\n\u001b[32m     75\u001b[39m \u001b[38;5;66;03m# -------- context features --------\u001b[39;00m\n\u001b[32m     76\u001b[39m out[\u001b[33m\"\u001b[39m\u001b[33mmkt_ret1\u001b[39m\u001b[33m\"\u001b[39m] = out[\u001b[33m\"\u001b[39m\u001b[33mspy_close\u001b[39m\u001b[33m\"\u001b[39m].pct_change(\u001b[32m1\u001b[39m)\n",
      "\u001b[36mFile \u001b[39m\u001b[32m~\\AppData\\Roaming\\Python\\Python313\\site-packages\\pandas\\core\\frame.py:10764\u001b[39m, in \u001b[36mDataFrame.join\u001b[39m\u001b[34m(self, other, on, how, lsuffix, rsuffix, sort, validate)\u001b[39m\n\u001b[32m  10754\u001b[39m     \u001b[38;5;28;01mif\u001b[39;00m how == \u001b[33m\"\u001b[39m\u001b[33mcross\u001b[39m\u001b[33m\"\u001b[39m:\n\u001b[32m  10755\u001b[39m         \u001b[38;5;28;01mreturn\u001b[39;00m merge(\n\u001b[32m  10756\u001b[39m             \u001b[38;5;28mself\u001b[39m,\n\u001b[32m  10757\u001b[39m             other,\n\u001b[32m   (...)\u001b[39m\u001b[32m  10762\u001b[39m             validate=validate,\n\u001b[32m  10763\u001b[39m         )\n\u001b[32m> \u001b[39m\u001b[32m10764\u001b[39m     \u001b[38;5;28;01mreturn\u001b[39;00m \u001b[43mmerge\u001b[49m\u001b[43m(\u001b[49m\n\u001b[32m  10765\u001b[39m \u001b[43m        \u001b[49m\u001b[38;5;28;43mself\u001b[39;49m\u001b[43m,\u001b[49m\n\u001b[32m  10766\u001b[39m \u001b[43m        \u001b[49m\u001b[43mother\u001b[49m\u001b[43m,\u001b[49m\n\u001b[32m  10767\u001b[39m \u001b[43m        \u001b[49m\u001b[43mleft_on\u001b[49m\u001b[43m=\u001b[49m\u001b[43mon\u001b[49m\u001b[43m,\u001b[49m\n\u001b[32m  10768\u001b[39m \u001b[43m        \u001b[49m\u001b[43mhow\u001b[49m\u001b[43m=\u001b[49m\u001b[43mhow\u001b[49m\u001b[43m,\u001b[49m\n\u001b[32m  10769\u001b[39m \u001b[43m        \u001b[49m\u001b[43mleft_index\u001b[49m\u001b[43m=\u001b[49m\u001b[43mon\u001b[49m\u001b[43m \u001b[49m\u001b[38;5;129;43;01mis\u001b[39;49;00m\u001b[43m \u001b[49m\u001b[38;5;28;43;01mNone\u001b[39;49;00m\u001b[43m,\u001b[49m\n\u001b[32m  10770\u001b[39m \u001b[43m        \u001b[49m\u001b[43mright_index\u001b[49m\u001b[43m=\u001b[49m\u001b[38;5;28;43;01mTrue\u001b[39;49;00m\u001b[43m,\u001b[49m\n\u001b[32m  10771\u001b[39m \u001b[43m        \u001b[49m\u001b[43msuffixes\u001b[49m\u001b[43m=\u001b[49m\u001b[43m(\u001b[49m\u001b[43mlsuffix\u001b[49m\u001b[43m,\u001b[49m\u001b[43m \u001b[49m\u001b[43mrsuffix\u001b[49m\u001b[43m)\u001b[49m\u001b[43m,\u001b[49m\n\u001b[32m  10772\u001b[39m \u001b[43m        \u001b[49m\u001b[43msort\u001b[49m\u001b[43m=\u001b[49m\u001b[43msort\u001b[49m\u001b[43m,\u001b[49m\n\u001b[32m  10773\u001b[39m \u001b[43m        \u001b[49m\u001b[43mvalidate\u001b[49m\u001b[43m=\u001b[49m\u001b[43mvalidate\u001b[49m\u001b[43m,\u001b[49m\n\u001b[32m  10774\u001b[39m \u001b[43m    \u001b[49m\u001b[43m)\u001b[49m\n\u001b[32m  10775\u001b[39m \u001b[38;5;28;01melse\u001b[39;00m:\n\u001b[32m  10776\u001b[39m     \u001b[38;5;28;01mif\u001b[39;00m on \u001b[38;5;129;01mis\u001b[39;00m \u001b[38;5;129;01mnot\u001b[39;00m \u001b[38;5;28;01mNone\u001b[39;00m:\n",
      "\u001b[36mFile \u001b[39m\u001b[32m~\\AppData\\Roaming\\Python\\Python313\\site-packages\\pandas\\core\\reshape\\merge.py:170\u001b[39m, in \u001b[36mmerge\u001b[39m\u001b[34m(left, right, how, on, left_on, right_on, left_index, right_index, sort, suffixes, copy, indicator, validate)\u001b[39m\n\u001b[32m    155\u001b[39m     \u001b[38;5;28;01mreturn\u001b[39;00m _cross_merge(\n\u001b[32m    156\u001b[39m         left_df,\n\u001b[32m    157\u001b[39m         right_df,\n\u001b[32m   (...)\u001b[39m\u001b[32m    167\u001b[39m         copy=copy,\n\u001b[32m    168\u001b[39m     )\n\u001b[32m    169\u001b[39m \u001b[38;5;28;01melse\u001b[39;00m:\n\u001b[32m--> \u001b[39m\u001b[32m170\u001b[39m     op = \u001b[43m_MergeOperation\u001b[49m\u001b[43m(\u001b[49m\n\u001b[32m    171\u001b[39m \u001b[43m        \u001b[49m\u001b[43mleft_df\u001b[49m\u001b[43m,\u001b[49m\n\u001b[32m    172\u001b[39m \u001b[43m        \u001b[49m\u001b[43mright_df\u001b[49m\u001b[43m,\u001b[49m\n\u001b[32m    173\u001b[39m \u001b[43m        \u001b[49m\u001b[43mhow\u001b[49m\u001b[43m=\u001b[49m\u001b[43mhow\u001b[49m\u001b[43m,\u001b[49m\n\u001b[32m    174\u001b[39m \u001b[43m        \u001b[49m\u001b[43mon\u001b[49m\u001b[43m=\u001b[49m\u001b[43mon\u001b[49m\u001b[43m,\u001b[49m\n\u001b[32m    175\u001b[39m \u001b[43m        \u001b[49m\u001b[43mleft_on\u001b[49m\u001b[43m=\u001b[49m\u001b[43mleft_on\u001b[49m\u001b[43m,\u001b[49m\n\u001b[32m    176\u001b[39m \u001b[43m        \u001b[49m\u001b[43mright_on\u001b[49m\u001b[43m=\u001b[49m\u001b[43mright_on\u001b[49m\u001b[43m,\u001b[49m\n\u001b[32m    177\u001b[39m \u001b[43m        \u001b[49m\u001b[43mleft_index\u001b[49m\u001b[43m=\u001b[49m\u001b[43mleft_index\u001b[49m\u001b[43m,\u001b[49m\n\u001b[32m    178\u001b[39m \u001b[43m        \u001b[49m\u001b[43mright_index\u001b[49m\u001b[43m=\u001b[49m\u001b[43mright_index\u001b[49m\u001b[43m,\u001b[49m\n\u001b[32m    179\u001b[39m \u001b[43m        \u001b[49m\u001b[43msort\u001b[49m\u001b[43m=\u001b[49m\u001b[43msort\u001b[49m\u001b[43m,\u001b[49m\n\u001b[32m    180\u001b[39m \u001b[43m        \u001b[49m\u001b[43msuffixes\u001b[49m\u001b[43m=\u001b[49m\u001b[43msuffixes\u001b[49m\u001b[43m,\u001b[49m\n\u001b[32m    181\u001b[39m \u001b[43m        \u001b[49m\u001b[43mindicator\u001b[49m\u001b[43m=\u001b[49m\u001b[43mindicator\u001b[49m\u001b[43m,\u001b[49m\n\u001b[32m    182\u001b[39m \u001b[43m        \u001b[49m\u001b[43mvalidate\u001b[49m\u001b[43m=\u001b[49m\u001b[43mvalidate\u001b[49m\u001b[43m,\u001b[49m\n\u001b[32m    183\u001b[39m \u001b[43m    \u001b[49m\u001b[43m)\u001b[49m\n\u001b[32m    184\u001b[39m     \u001b[38;5;28;01mreturn\u001b[39;00m op.get_result(copy=copy)\n",
      "\u001b[36mFile \u001b[39m\u001b[32m~\\AppData\\Roaming\\Python\\Python313\\site-packages\\pandas\\core\\reshape\\merge.py:784\u001b[39m, in \u001b[36m_MergeOperation.__init__\u001b[39m\u001b[34m(self, left, right, how, on, left_on, right_on, left_index, right_index, sort, suffixes, indicator, validate)\u001b[39m\n\u001b[32m    778\u001b[39m \u001b[38;5;28;01mif\u001b[39;00m _left.columns.nlevels != _right.columns.nlevels:\n\u001b[32m    779\u001b[39m     msg = (\n\u001b[32m    780\u001b[39m         \u001b[33m\"\u001b[39m\u001b[33mNot allowed to merge between different levels. \u001b[39m\u001b[33m\"\u001b[39m\n\u001b[32m    781\u001b[39m         \u001b[33mf\u001b[39m\u001b[33m\"\u001b[39m\u001b[33m(\u001b[39m\u001b[38;5;132;01m{\u001b[39;00m_left.columns.nlevels\u001b[38;5;132;01m}\u001b[39;00m\u001b[33m levels on the left, \u001b[39m\u001b[33m\"\u001b[39m\n\u001b[32m    782\u001b[39m         \u001b[33mf\u001b[39m\u001b[33m\"\u001b[39m\u001b[38;5;132;01m{\u001b[39;00m_right.columns.nlevels\u001b[38;5;132;01m}\u001b[39;00m\u001b[33m on the right)\u001b[39m\u001b[33m\"\u001b[39m\n\u001b[32m    783\u001b[39m     )\n\u001b[32m--> \u001b[39m\u001b[32m784\u001b[39m     \u001b[38;5;28;01mraise\u001b[39;00m MergeError(msg)\n\u001b[32m    786\u001b[39m \u001b[38;5;28mself\u001b[39m.left_on, \u001b[38;5;28mself\u001b[39m.right_on = \u001b[38;5;28mself\u001b[39m._validate_left_right_on(left_on, right_on)\n\u001b[32m    788\u001b[39m (\n\u001b[32m    789\u001b[39m     \u001b[38;5;28mself\u001b[39m.left_join_keys,\n\u001b[32m    790\u001b[39m     \u001b[38;5;28mself\u001b[39m.right_join_keys,\n\u001b[32m   (...)\u001b[39m\u001b[32m    793\u001b[39m     right_drop,\n\u001b[32m    794\u001b[39m ) = \u001b[38;5;28mself\u001b[39m._get_merge_keys()\n",
      "\u001b[31mMergeError\u001b[39m: Not allowed to merge between different levels. (1 levels on the left, 2 on the right)"
     ]
    }
   ],
   "source": [
    "# --- Params ---\n",
    "TICKER = \"AAPL\"\n",
    "START, END = \"2015-01-01\", \"2023-12-31\"\n",
    "TAU, DEAD_ZONE = 0.001, True  # ±0.1% dead-zone\n",
    "\n",
    "# --- Load → featurize → market context → label ---\n",
    "df = get_data(TICKER, start=START, end=END)\n",
    "df = add_features(df)\n",
    "df = add_market_context(df, start=START, end=END)   # NEW\n",
    "df = make_labels(df, tau=TAU, dead_zone=DEAD_ZONE)\n",
    "\n",
    "# If merge created any gaps, drop them\n",
    "df = df.dropna().reset_index(drop=True)\n",
    "\n",
    "# Exclude raw price/label columns; everything else becomes a feature\n",
    "exclude = [\"date\",\"open\",\"high\",\"low\",\"close\",\"volume\",\"ret_next\",\"y\"]\n",
    "feat_cols = [c for c in df.columns if c not in exclude]\n",
    "\n",
    "# quick sanity check: (rows, feature_count)\n",
    "len(df), len(feat_cols)\n"
   ]
  },
  {
   "cell_type": "code",
   "execution_count": null,
   "id": "7933ae0c",
   "metadata": {},
   "outputs": [],
   "source": [
    "n = len(df)\n",
    "i_tr = int(0.70*n); i_va = int(0.85*n)\n",
    "\n",
    "X_tr, y_tr = X[:i_tr], y[:i_tr]\n",
    "X_va, y_va = X[i_tr:i_va], y[i_tr:i_va]\n",
    "X_te, y_te = X[i_va:], y[i_va:]\n",
    "\n",
    "scaler = StandardScaler().fit(X_tr)\n",
    "X_tr = scaler.transform(X_tr); X_va = scaler.transform(X_va); X_te = scaler.transform(X_te)\n",
    "X_tr.shape, X_va.shape, X_te.shape"
   ]
  },
  {
   "cell_type": "code",
   "execution_count": null,
   "id": "94924d81",
   "metadata": {},
   "outputs": [],
   "source": [
    "clf = LogisticRegression(max_iter=2000, class_weight=\"balanced\")\n",
    "clf.fit(X_tr, y_tr)\n",
    "\n",
    "p_va = clf.predict_proba(X_va)[:,1]\n",
    "p_te = clf.predict_proba(X_te)[:,1]\n",
    "\n",
    "pred_va = (p_va>0.5).astype(int)\n",
    "pred_te = (p_te>0.5).astype(int)\n",
    "\n",
    "print(\"VAL ROC-AUC:\", roc_auc_score(y_va, p_va))\n",
    "print(\"VAL BalAcc :\", balanced_accuracy_score(y_va, pred_va))\n",
    "print(\"VAL F1     :\", f1_score(y_va, pred_va))\n",
    "print(confusion_matrix(y_va, pred_va))\n",
    "print(classification_report(y_va, pred_va, digits=3))\n",
    "\n",
    "print(\"\\nTEST ROC-AUC:\", roc_auc_score(y_te, p_te))\n",
    "print(\"TEST BalAcc :\", balanced_accuracy_score(y_te, pred_te))\n",
    "print(\"TEST F1     :\", f1_score(y_te, pred_te))\n",
    "print(confusion_matrix(y_te, pred_te))\n",
    "print(classification_report(y_te, pred_te, digits=3))"
   ]
  },
  {
   "cell_type": "code",
   "execution_count": null,
   "id": "709f80d2",
   "metadata": {},
   "outputs": [],
   "source": [
    "fig = plt.figure(figsize=(12,5))\n",
    "ax1 = plt.subplot(1,2,1); RocCurveDisplay.from_predictions(y_te, p_te, ax=ax1); ax1.set_title(\"Test ROC\")\n",
    "ax2 = plt.subplot(1,2,2); PrecisionRecallDisplay.from_predictions(y_te, p_te, ax=ax2); ax2.set_title(\"Test PR\")\n",
    "plt.show()\n"
   ]
  },
  {
   "cell_type": "code",
   "execution_count": null,
   "id": "c1a57c33",
   "metadata": {},
   "outputs": [],
   "source": [
    "thr = 0.55     # confidence threshold\n",
    "fee = 0.0010   # 10 bps per trade\n",
    "\n",
    "test_df = df.iloc[int(0.85*len(df)):].copy().reset_index(drop=True)\n",
    "test_df[\"p\"] = p_te\n",
    "\n",
    "pos = (test_df[\"p\"].values > thr).astype(int)   # long-only when confident\n",
    "r = test_df[\"ret_next\"].values                  # next-day return\n",
    "\n",
    "trades = np.abs(np.diff(np.r_[0, pos]))         # position changes\n",
    "costs = trades * fee\n",
    "\n",
    "strat_r = pos * r - costs\n",
    "bh_r    = r\n",
    "\n",
    "def equity_curve(returns): return (1 + pd.Series(returns)).cumprod()\n",
    "def sharpe(returns):\n",
    "    s = np.std(returns); \n",
    "    return 0.0 if s==0 else np.mean(returns)/s*np.sqrt(252)\n",
    "def max_drawdown(series):\n",
    "    peak = series.cummax()\n",
    "    dd = series/peak - 1.0\n",
    "    return dd.min()\n",
    "\n",
    "eq_strat = equity_curve(strat_r)\n",
    "eq_bh    = equity_curve(bh_r)\n",
    "\n",
    "print(\"Strategy Sharpe (ann.):\", sharpe(strat_r))\n",
    "print(\"Buy&Hold Sharpe (ann.):\", sharpe(bh_r))\n",
    "print(\"Strategy MaxDD:\", max_drawdown(eq_strat))\n",
    "print(\"Buy&Hold MaxDD:\", max_drawdown(eq_bh))\n",
    "\n",
    "plt.figure(figsize=(12,5))\n",
    "plt.plot(eq_strat.values, label=f\"Strategy (thr={thr:.2f}, fee={int(fee*1e4)}bps)\")\n",
    "plt.plot(eq_bh.values,    label=\"Buy & Hold\")\n",
    "plt.title(\"Equity Curve — Test Period\")\n",
    "plt.legend(); plt.show()\n"
   ]
  },
  {
   "cell_type": "code",
   "execution_count": null,
   "id": "b00749f9",
   "metadata": {},
   "outputs": [],
   "source": [
    "import numpy as np, pandas as pd, matplotlib.pyplot as plt\n",
    "\n",
    "if 'test_df' not in globals() or 'p_logreg' not in getattr(test_df, 'columns', []):\n",
    "    test_df = df.iloc[int(0.85*len(df)):].copy().reset_index(drop=True)\n",
    "    test_df[\"p_logreg\"] = p_te[:len(test_df)]\n",
    "\n",
    "probs = test_df[\"p_logreg\"].values\n",
    "\n",
    "coverage = (probs > thr).mean()\n",
    "trades_count = int(np.abs(np.diff(np.r_[0, (probs > thr).astype(int)])).sum())\n",
    "print(f\"Coverage (in-position days): {coverage:.2%}\")\n",
    "print(\"Trades:\", trades_count)\n",
    "\n",
    "plt.figure(figsize=(6,4))\n",
    "plt.hist(probs, bins=30)\n",
    "plt.axvline(0.5, ls=\"--\"); plt.axvline(thr, color=\"r\")\n",
    "plt.title(\"LogReg predicted probabilities (TEST)\")\n",
    "plt.show()\n"
   ]
  },
  {
   "cell_type": "code",
   "execution_count": null,
   "id": "27f6d8fe",
   "metadata": {},
   "outputs": [],
   "source": [
    "def sharpe_daily(r):\n",
    "    r = pd.Series(r); s = r.std()\n",
    "    return 0.0 if s == 0 else r.mean()/s*np.sqrt(252)\n",
    "\n",
    "def strat_sharpe_from_probs(p, ret_next, fee=0.0010, thr=0.55):\n",
    "    pos = (p > thr).astype(int)\n",
    "    trades = np.abs(np.diff(np.r_[0, pos])) * fee\n",
    "    strat_r = pos * ret_next - trades\n",
    "    return sharpe_daily(strat_r)\n",
    "\n",
    "val_slice = slice(int(0.70*len(df)), int(0.85*len(df)))\n",
    "val_ret_next = df.iloc[val_slice][\"ret_next\"].values\n",
    "\n",
    "grid = np.linspace(0.50, 0.60, 21)\n",
    "thr_log = max(grid, key=lambda t: strat_sharpe_from_probs(p_va, val_ret_next, fee=0.0010, thr=t))\n",
    "thr_log\n"
   ]
  },
  {
   "cell_type": "code",
   "execution_count": null,
   "id": "5770623d",
   "metadata": {},
   "outputs": [],
   "source": [
    "thr = float(thr_log)\n",
    "\n",
    "pos = (test_df[\"p_logreg\"].values > thr).astype(int)\n",
    "trades = np.abs(np.diff(np.r_[0, pos])); costs = trades * fee\n",
    "strat_r = pos * r - costs\n",
    "eq_s, eq_b = (1+pd.Series(strat_r)).cumprod(), (1+pd.Series(r)).cumprod()\n",
    "\n",
    "print(\"LogReg Strategy Sharpe (tuned):\", sharpe(strat_r))\n",
    "print(\"Buy&Hold Sharpe               :\", sharpe(bh_r))\n",
    "print(\"LogReg MaxDD (tuned):\", max_drawdown(eq_s), \"| BH MaxDD:\", max_drawdown(eq_b))\n",
    "\n",
    "plt.figure(figsize=(12,5))\n",
    "plt.plot(eq_s.values, label=f\"LogReg (thr={thr:.2f}, fee=10bps)\")\n",
    "plt.plot(eq_b.values, label=\"Buy & Hold\")\n",
    "plt.title(\"Equity Curve — TEST (LogReg, tuned on VAL)\")\n",
    "plt.legend(); plt.show()\n"
   ]
  },
  {
   "cell_type": "code",
   "execution_count": null,
   "id": "d2351c49",
   "metadata": {},
   "outputs": [],
   "source": [
    "from xgboost import XGBClassifier\n",
    "\n",
    "xgb = XGBClassifier(\n",
    "    n_estimators=400, max_depth=4, learning_rate=0.05,\n",
    "    subsample=0.8, colsample_bytree=0.8, reg_lambda=1.0,\n",
    "    random_state=42, n_jobs=-1\n",
    ")\n",
    "xgb.fit(X_tr, y_tr)\n",
    "\n",
    "p_va_xgb = xgb.predict_proba(X_va)[:, 1]\n",
    "p_te_xgb = xgb.predict_proba(X_te)[:, 1]\n",
    "\n",
    "print(\"VAL AUC (XGB):\", roc_auc_score(y_va, p_va_xgb))\n",
    "print(\"TEST AUC (XGB):\", roc_auc_score(y_te, p_te_xgb))\n"
   ]
  },
  {
   "cell_type": "code",
   "execution_count": null,
   "id": "50000cfe",
   "metadata": {},
   "outputs": [],
   "source": [
    "val_ret_next = df.iloc[val_slice][\"ret_next\"].values  # already defined slice\n",
    "grid = np.linspace(0.50, 0.60, 21)\n",
    "thr_xgb = max(grid, key=lambda t: strat_sharpe_from_probs(p_va_xgb, val_ret_next, fee=0.0010, thr=t))\n",
    "thr_xgb\n"
   ]
  },
  {
   "cell_type": "code",
   "execution_count": null,
   "id": "29ec0b76",
   "metadata": {},
   "outputs": [],
   "source": [
    "fee = 0.0010\n",
    "\n",
    "test_df_xgb = df.iloc[int(0.85*len(df)):].copy().reset_index(drop=True)\n",
    "test_df_xgb[\"p_xgb\"] = p_te_xgb\n",
    "r_x = test_df_xgb[\"ret_next\"].values\n",
    "\n",
    "pos_x = (test_df_xgb[\"p_xgb\"].values > thr_xgb).astype(int)\n",
    "trades_x = np.abs(np.diff(np.r_[0, pos_x])); costs_x = trades_x * fee\n",
    "strat_r_x = pos_x * r_x - costs_x\n",
    "bh_r_x = r_x\n",
    "\n",
    "eq_s_x, eq_b_x = (1+pd.Series(strat_r_x)).cumprod(), (1+pd.Series(bh_r_x)).cumprod()\n",
    "\n",
    "print(\"XGB Strategy Sharpe:\", sharpe(strat_r_x))\n",
    "print(\"Buy&Hold Sharpe   :\", sharpe(bh_r_x))\n",
    "print(\"XGB MaxDD:\", max_drawdown(eq_s_x), \"| BH MaxDD:\", max_drawdown(eq_b_x))\n",
    "\n",
    "plt.figure(figsize=(12,5))\n",
    "plt.plot(eq_s_x.values, label=f\"XGB (thr={thr_xgb:.2f}, fee=10bps)\")\n",
    "plt.plot(eq_b_x.values, label=\"Buy & Hold\")\n",
    "plt.title(\"Equity Curve — TEST (XGBoost)\")\n",
    "plt.legend(); plt.show()\n"
   ]
  },
  {
   "cell_type": "code",
   "execution_count": null,
   "id": "fdb99a2c",
   "metadata": {},
   "outputs": [],
   "source": [
    "imp = xgb.feature_importances_\n",
    "order = np.argsort(imp)[::-1][:20]\n",
    "plt.figure(figsize=(8,6))\n",
    "plt.barh(np.array(feat_cols)[order][::-1], imp[order][::-1])\n",
    "plt.title(\"XGBoost Feature Importance (top 20)\")\n",
    "plt.tight_layout(); plt.show()\n"
   ]
  }
 ],
 "metadata": {
  "kernelspec": {
   "display_name": "Python 3",
   "language": "python",
   "name": "python3"
  },
  "language_info": {
   "codemirror_mode": {
    "name": "ipython",
    "version": 3
   },
   "file_extension": ".py",
   "mimetype": "text/x-python",
   "name": "python",
   "nbconvert_exporter": "python",
   "pygments_lexer": "ipython3",
   "version": "3.13.6"
  }
 },
 "nbformat": 4,
 "nbformat_minor": 5
}
