{
 "cells": [
  {
   "cell_type": "code",
   "execution_count": 9,
   "id": "10bc0869",
   "metadata": {},
   "outputs": [
    {
     "name": "stdout",
     "output_type": "stream",
     "text": [
      "Repo root → C:\\.projects\\stock-direction-ml\\notebooks\n",
      "Has data?       True\n",
      "Has artifacts?  True\n"
     ]
    }
   ],
   "source": [
    "# NB17 — Repo root autodetect (data/ + artifacts/ locator)\n",
    "from pathlib import Path\n",
    "\n",
    "def find_repo_root(start: Path, must_have=(\"data\", \"artifacts\")) -> Path:\n",
    "    cur = start.resolve()\n",
    "    for _ in range(6):\n",
    "        if all((cur / m).exists() for m in must_have):\n",
    "            return cur\n",
    "        cur = cur.parent\n",
    "    if start.name.lower() == \"notebooks\" and all((start.parent / m).exists() for m in must_have):\n",
    "        return start.parent.resolve()\n",
    "    raise FileNotFoundError(f\"Could not locate repo root containing {must_have} starting at {start}\")\n",
    "\n",
    "CWD = Path.cwd()\n",
    "ROOT = find_repo_root(CWD)\n",
    "print(\"Repo root →\", ROOT)\n",
    "print(\"Has data?      \", (ROOT/\"data\").exists())\n",
    "print(\"Has artifacts? \", (ROOT/\"artifacts\").exists())\n"
   ]
  },
  {
   "cell_type": "code",
   "execution_count": 10,
   "id": "32c2d7ca",
   "metadata": {},
   "outputs": [
    {
     "name": "stdout",
     "output_type": "stream",
     "text": [
      "Wrote: C:\\.projects\\stock-direction-ml\\notebooks\\requirements.txt\n",
      "streamlit\n",
      "scikit-learn==1.7.2\n",
      "pandas==2.3.2\n",
      "numpy==2.3.3\n",
      "joblib==1.5.2\n",
      "matplotlib==3.10.6\n",
      "pyarrow==21.0.0\n",
      "\n"
     ]
    }
   ],
   "source": [
    "# NB17 — Write requirements.txt pinned to current versions\n",
    "import importlib, sys\n",
    "\n",
    "pkgs = [\n",
    "    \"streamlit\",\n",
    "    \"scikit-learn\",\n",
    "    \"pandas\",\n",
    "    \"numpy\",\n",
    "    \"joblib\",\n",
    "    \"matplotlib\",\n",
    "    \"pyarrow\",       # for parquet read\n",
    "    # \"fastparquet\", # uncomment if you use it\n",
    "]\n",
    "\n",
    "lines = []\n",
    "for name in pkgs:\n",
    "    try:\n",
    "        mod = importlib.import_module(name if name != \"scikit-learn\" else \"sklearn\")\n",
    "        ver = getattr(mod, \"__version__\", None)\n",
    "        if ver is None and name == \"joblib\":\n",
    "            ver = importlib.import_module(\"joblib\").__version__\n",
    "        if ver:\n",
    "            lines.append(f\"{name}=={ver}\")\n",
    "        else:\n",
    "            lines.append(name)  # fallback unpinned\n",
    "    except Exception:\n",
    "        lines.append(name)      # not installed right now; leave unpinned\n",
    "\n",
    "req_path = (ROOT / \"requirements.txt\")\n",
    "req_path.write_text(\"\\n\".join(lines) + \"\\n\", encoding=\"utf-8\")\n",
    "print(\"Wrote:\", req_path.resolve())\n",
    "print(req_path.read_text(encoding=\"utf-8\"))\n"
   ]
  },
  {
   "cell_type": "code",
   "execution_count": 11,
   "id": "5748ad08",
   "metadata": {},
   "outputs": [
    {
     "name": "stdout",
     "output_type": "stream",
     "text": [
      "Wrote: C:\\.projects\\stock-direction-ml\\notebooks\\.streamlit\\config.toml\n",
      "[server]\n",
      "headless = true\n",
      "runOnSave = false\n",
      "\n",
      "[theme]\n",
      "base = \"light\"\n",
      "primaryColor = \"#0E7AFE\"\n",
      "backgroundColor = \"#FFFFFF\"\n",
      "secondaryBackgroundColor = \"#F6F8FB\"\n",
      "textColor = \"#0B132B\"\n",
      "\n"
     ]
    }
   ],
   "source": [
    "# NB17 — Write .streamlit/config.toml (basic settings/theme)\n",
    "from pathlib import Path\n",
    "\n",
    "cfg_dir = (ROOT / \".streamlit\")\n",
    "cfg_dir.mkdir(parents=True, exist_ok=True)\n",
    "cfg_path = cfg_dir / \"config.toml\"\n",
    "\n",
    "cfg = \"\"\"\\\n",
    "[server]\n",
    "headless = true\n",
    "runOnSave = false\n",
    "\n",
    "[theme]\n",
    "base = \"light\"\n",
    "primaryColor = \"#0E7AFE\"\n",
    "backgroundColor = \"#FFFFFF\"\n",
    "secondaryBackgroundColor = \"#F6F8FB\"\n",
    "textColor = \"#0B132B\"\n",
    "\"\"\"\n",
    "\n",
    "cfg_path.write_text(cfg, encoding=\"utf-8\")\n",
    "print(\"Wrote:\", cfg_path.resolve())\n",
    "print(cfg_path.read_text(encoding=\"utf-8\"))\n"
   ]
  },
  {
   "cell_type": "code",
   "execution_count": null,
   "id": "c8c14ffa",
   "metadata": {},
   "outputs": [],
   "source": [
    "# NB17 — Write README_STREAMLIT.md with deploy instructions (closed with ''' at the end)\n",
    "from pathlib import Path\n",
    "\n",
    "# Detect whether app lives at <ROOT>/app or notebooks/app\n",
    "app_root_first = (ROOT / \"app\" / \"streamlit_app.py\")\n",
    "app_notebooks  = (ROOT / \"notebooks\" / \"app\" / \"streamlit_app.py\")\n",
    "if app_root_first.exists():\n",
    "    app_path_cloud = \"app/streamlit_app.py\"\n",
    "elif app_notebooks.exists():\n",
    "    app_path_cloud = \"notebooks/app/streamlit_app.py\"\n",
    "else:\n",
    "    app_path_cloud = \"app/streamlit_app.py\"  # default\n",
    "\n",
    "readme = f'''# Streamlit App — Deploy Guide\n",
    "\n",
    "## Run locally\n",
    "```bash\n",
    "streamlit run {app_path_cloud}\n",
    "'''"
   ]
  }
 ],
 "metadata": {
  "kernelspec": {
   "display_name": "ml-env",
   "language": "python",
   "name": "python3"
  },
  "language_info": {
   "codemirror_mode": {
    "name": "ipython",
    "version": 3
   },
   "file_extension": ".py",
   "mimetype": "text/x-python",
   "name": "python",
   "nbconvert_exporter": "python",
   "pygments_lexer": "ipython3",
   "version": "3.13.3"
  }
 },
 "nbformat": 4,
 "nbformat_minor": 5
}
