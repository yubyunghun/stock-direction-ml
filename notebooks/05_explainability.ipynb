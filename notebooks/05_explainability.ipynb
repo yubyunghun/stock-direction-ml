{
 "cells": [
  {
   "cell_type": "code",
   "execution_count": null,
   "id": "bc0abadd",
   "metadata": {},
   "outputs": [],
   "source": [
    "# --- Imports & I/O setup ---\n",
    "import os, json, pathlib, textwrap\n",
    "from datetime import datetime\n",
    "\n",
    "import sys, os\n",
    "sys.path.append(os.path.abspath(\"..\"))\n",
    "\n",
    "import numpy as np\n",
    "import pandas as pd\n",
    "\n",
    "from sklearn.model_selection import train_test_split\n",
    "from sklearn.preprocessing import StandardScaler\n",
    "from sklearn.linear_model import LogisticRegression\n",
    "from sklearn.metrics import (roc_auc_score, average_precision_score,\n",
    "                             brier_score_loss, log_loss, roc_curve,\n",
    "                             precision_recall_curve, confusion_matrix,\n",
    "                             f1_score)\n",
    "import matplotlib.pyplot as plt\n",
    "\n",
    "import joblib\n",
    "\n",
    "# xgboost is optional; notebook will still run without it\n",
    "try:\n",
    "    from xgboost import XGBClassifier\n",
    "    HAVE_XGB = True\n",
    "except Exception:\n",
    "    HAVE_XGB = False\n",
    "\n",
    "# Paths\n",
    "os.makedirs(\"artifacts\", exist_ok=True)\n",
    "os.makedirs(\"reports/figures\", exist_ok=True)\n",
    "os.makedirs(\"data\", exist_ok=True)\n",
    "\n",
    "# Repro\n",
    "RNG = 42\n",
    "np.random.seed(RNG)\n"
   ]
  },
  {
   "cell_type": "code",
   "execution_count": 18,
   "id": "b3b6d7d1",
   "metadata": {},
   "outputs": [
    {
     "data": {
      "text/plain": [
       "(2078,\n",
       " 8,\n",
       "         date      macd  macd_signal      ret1     ret10      ret5\n",
       " 0 2015-02-20  1.055491     0.908931  0.008174  0.079707  0.024039\n",
       " 1 2015-02-23  1.123915     0.951928  0.027027  0.118305  0.046585\n",
       " 2 2015-02-24  1.149966     0.991536 -0.006240  0.103992  0.033951\n",
       " 3 2015-02-25  1.097202     1.012669 -0.025573  0.055483  0.000544\n",
       " 4 2015-02-26  1.072328     1.024601  0.012656  0.044363  0.015337)"
      ]
     },
     "execution_count": 18,
     "metadata": {},
     "output_type": "execute_result"
    }
   ],
   "source": [
    "# --- Load dataset & feature list (CSV- or Parquet-aware) ---\n",
    "storage_fmt = {\"format\": \"csv\"}\n",
    "sf_path = pathlib.Path(\"data/storage_format.json\")\n",
    "if sf_path.exists():\n",
    "    storage_fmt = json.loads(sf_path.read_text(encoding=\"utf-8\"))\n",
    "\n",
    "fmt = storage_fmt.get(\"format\", \"csv\").lower()\n",
    "\n",
    "if fmt == \"parquet\":\n",
    "    try:\n",
    "        df = pd.read_parquet(\"data/df_nb02.parquet\")\n",
    "    except Exception as e:\n",
    "        print(\"Parquet not available, falling back to CSV:\", e)\n",
    "        df = pd.read_csv(\"data/df_nb02.csv\", parse_dates=[\"date\"])\n",
    "else:\n",
    "    df = pd.read_csv(\"data/df_nb02.csv\", parse_dates=[\"date\"])\n",
    "\n",
    "# Feature list (from NB2)\n",
    "feat_cols = json.loads(open(\"artifacts/feature_list.json\", \"r\", encoding=\"utf-8\").read())\n",
    "\n",
    "# Make sure features exist (take intersection)\n",
    "feat_cols = [c for c in feat_cols if c in df.columns]\n",
    "\n",
    "# Params (carried over for the model card)\n",
    "TICKER = df.get(\"ticker\", pd.Series([\"UNK\"]*len(df))).iloc[0] if \"ticker\" in df.columns else \"UNK\"\n",
    "START  = str(df[\"date\"].min().date())\n",
    "END    = str(df[\"date\"].max().date())\n",
    "TAU    = float(json.loads(open(\"data/label_params.json\",\"r\").read())[\"tau\"]) if pathlib.Path(\"data/label_params.json\").exists() else None\n",
    "DEAD_ZONE = bool(json.loads(open(\"data/label_params.json\",\"r\").read())[\"dead_zone\"]) if pathlib.Path(\"data/label_params.json\").exists() else None\n",
    "\n",
    "len(df), len(feat_cols), df[[\"date\"]+feat_cols[:5]].head()\n"
   ]
  },
  {
   "cell_type": "code",
   "execution_count": 19,
   "id": "d123e0ab",
   "metadata": {},
   "outputs": [
    {
     "name": "stdout",
     "output_type": "stream",
     "text": [
      "(1246, 16) (415, 16) (417, 16)\n"
     ]
    }
   ],
   "source": [
    "# --- Time-based split: 60% train, 20% val, 20% test by date order ---\n",
    "df = df.sort_values(\"date\").reset_index(drop=True)\n",
    "\n",
    "n = len(df)\n",
    "n_train = int(0.6 * n)\n",
    "n_val   = int(0.2 * n)\n",
    "n_test  = n - n_train - n_val\n",
    "\n",
    "df_tr = df.iloc[:n_train].copy()\n",
    "df_va = df.iloc[n_train:n_train+n_val].copy()\n",
    "df_te = df.iloc[n_train+n_val:].copy()\n",
    "\n",
    "X_tr, y_tr = df_tr[feat_cols].values, df_tr[\"y\"].values\n",
    "X_va, y_va = df_va[feat_cols].values, df_va[\"y\"].values\n",
    "X_te, y_te = df_te[feat_cols].values, df_te[\"y\"].values\n",
    "\n",
    "# standardize (fit on train only)\n",
    "scaler = StandardScaler().fit(X_tr)\n",
    "X_tr_s = scaler.transform(X_tr)\n",
    "X_va_s = scaler.transform(X_va)\n",
    "X_te_s = scaler.transform(X_te)\n",
    "\n",
    "print(df_tr.shape, df_va.shape, df_te.shape)\n"
   ]
  },
  {
   "cell_type": "code",
   "execution_count": 20,
   "id": "269aa273",
   "metadata": {},
   "outputs": [
    {
     "name": "stdout",
     "output_type": "stream",
     "text": [
      "Trained LR | XGB: True\n"
     ]
    }
   ],
   "source": [
    "# --- Train models ---\n",
    "lr = LogisticRegression(max_iter=200, n_jobs=None, solver=\"lbfgs\", random_state=RNG)\n",
    "lr.fit(X_tr_s, y_tr)\n",
    "\n",
    "if HAVE_XGB:\n",
    "    xgb = XGBClassifier(\n",
    "        n_estimators=300,\n",
    "        max_depth=3,\n",
    "        learning_rate=0.05,\n",
    "        subsample=0.9,\n",
    "        colsample_bytree=0.9,\n",
    "        reg_lambda=1.0,\n",
    "        objective=\"binary:logistic\",\n",
    "        random_state=RNG,\n",
    "        eval_metric=\"logloss\",\n",
    "        n_jobs=0\n",
    "    )\n",
    "    xgb.fit(X_tr, y_tr)  # XGB often does better without standardization\n",
    "else:\n",
    "    xgb = None\n",
    "\n",
    "print(\"Trained LR\", \"| XGB:\", HAVE_XGB)\n"
   ]
  },
  {
   "cell_type": "code",
   "execution_count": 21,
   "id": "544e6a16",
   "metadata": {},
   "outputs": [
    {
     "data": {
      "text/html": [
       "<div>\n",
       "<style scoped>\n",
       "    .dataframe tbody tr th:only-of-type {\n",
       "        vertical-align: middle;\n",
       "    }\n",
       "\n",
       "    .dataframe tbody tr th {\n",
       "        vertical-align: top;\n",
       "    }\n",
       "\n",
       "    .dataframe thead th {\n",
       "        text-align: right;\n",
       "    }\n",
       "</style>\n",
       "<table border=\"1\" class=\"dataframe\">\n",
       "  <thead>\n",
       "    <tr style=\"text-align: right;\">\n",
       "      <th></th>\n",
       "      <th>model</th>\n",
       "      <th>split</th>\n",
       "      <th>AUC</th>\n",
       "      <th>PR_AUC</th>\n",
       "      <th>Brier</th>\n",
       "      <th>LogLoss</th>\n",
       "      <th>PosRate</th>\n",
       "    </tr>\n",
       "  </thead>\n",
       "  <tbody>\n",
       "    <tr>\n",
       "      <th>0</th>\n",
       "      <td>LR</td>\n",
       "      <td>val</td>\n",
       "      <td>0.491976</td>\n",
       "      <td>0.517857</td>\n",
       "      <td>0.262956</td>\n",
       "      <td>0.721884</td>\n",
       "      <td>0.53253</td>\n",
       "    </tr>\n",
       "    <tr>\n",
       "      <th>1</th>\n",
       "      <td>LR</td>\n",
       "      <td>test</td>\n",
       "      <td>0.454615</td>\n",
       "      <td>0.491001</td>\n",
       "      <td>0.274578</td>\n",
       "      <td>0.745878</td>\n",
       "      <td>0.52518</td>\n",
       "    </tr>\n",
       "    <tr>\n",
       "      <th>2</th>\n",
       "      <td>XGB</td>\n",
       "      <td>val</td>\n",
       "      <td>0.519965</td>\n",
       "      <td>0.550788</td>\n",
       "      <td>0.265975</td>\n",
       "      <td>0.730973</td>\n",
       "      <td>0.53253</td>\n",
       "    </tr>\n",
       "    <tr>\n",
       "      <th>3</th>\n",
       "      <td>XGB</td>\n",
       "      <td>test</td>\n",
       "      <td>0.522577</td>\n",
       "      <td>0.537362</td>\n",
       "      <td>0.264959</td>\n",
       "      <td>0.728562</td>\n",
       "      <td>0.52518</td>\n",
       "    </tr>\n",
       "  </tbody>\n",
       "</table>\n",
       "</div>"
      ],
      "text/plain": [
       "  model split       AUC    PR_AUC     Brier   LogLoss  PosRate\n",
       "0    LR   val  0.491976  0.517857  0.262956  0.721884  0.53253\n",
       "1    LR  test  0.454615  0.491001  0.274578  0.745878  0.52518\n",
       "2   XGB   val  0.519965  0.550788  0.265975  0.730973  0.53253\n",
       "3   XGB  test  0.522577  0.537362  0.264959  0.728562  0.52518"
      ]
     },
     "execution_count": 21,
     "metadata": {},
     "output_type": "execute_result"
    }
   ],
   "source": [
    "# --- Validation metrics to choose threshold later ---\n",
    "def metric_block(y_true, y_prob):\n",
    "    p = np.clip(np.asarray(y_prob), 1e-15, 1 - 1e-15)\n",
    "    return {\n",
    "        \"AUC\": roc_auc_score(y_true, p),\n",
    "        \"PR_AUC\": average_precision_score(y_true, p),\n",
    "        \"Brier\": brier_score_loss(y_true, p),\n",
    "        \"LogLoss\": log_loss(y_true, p)\n",
    "    }\n",
    "\n",
    "preds = {}\n",
    "preds[\"LR\"] = {\n",
    "    \"va\": lr.predict_proba(X_va_s)[:, 1],\n",
    "    \"te\": lr.predict_proba(X_te_s)[:, 1],\n",
    "}\n",
    "\n",
    "if HAVE_XGB:\n",
    "    preds[\"XGB\"] = {\n",
    "        \"va\": xgb.predict_proba(X_va)[:, 1],\n",
    "        \"te\": xgb.predict_proba(X_te)[:, 1],\n",
    "}\n",
    "\n",
    "rows = []\n",
    "for model_name, d in preds.items():\n",
    "    m_va = metric_block(y_va, d[\"va\"])\n",
    "    m_te = metric_block(y_te, d[\"te\"])\n",
    "    rows.append({\"model\": model_name, \"split\": \"val\", **m_va, \"PosRate\": float(np.mean(y_va))})\n",
    "    rows.append({\"model\": model_name, \"split\": \"test\", **m_te, \"PosRate\": float(np.mean(y_te))})\n",
    "\n",
    "summary = pd.DataFrame(rows)\n",
    "summary.to_csv(\"data/explainability_summary.csv\", index=False)\n",
    "summary\n"
   ]
  },
  {
   "cell_type": "code",
   "execution_count": 22,
   "id": "9c40200a",
   "metadata": {},
   "outputs": [
    {
     "data": {
      "image/png": "[encoded data removed]",
      "text/plain": [
       "<Figure size 640x480 with 1 Axes>"
      ]
     },
     "metadata": {},
     "output_type": "display_data"
    },
    {
     "data": {
      "image/png": "[encoded data removed]",
      "text/plain": [
       "<Figure size 640x480 with 1 Axes>"
      ]
     },
     "metadata": {},
     "output_type": "display_data"
    }
   ],
   "source": [
    "# --- ROC & PR curves (LR only for plots to keep it simple) ---\n",
    "fpr, tpr, _ = roc_curve(y_te, preds[\"LR\"][\"te\"])\n",
    "prec, rec, _ = precision_recall_curve(y_te, preds[\"LR\"][\"te\"])\n",
    "\n",
    "plt.figure()\n",
    "plt.plot(fpr, tpr, label=\"LR\")\n",
    "plt.plot([0,1],[0,1], linestyle=\"--\")\n",
    "plt.xlabel(\"FPR\"); plt.ylabel(\"TPR\"); plt.title(\"ROC — LR (TEST)\")\n",
    "plt.legend()\n",
    "plt.tight_layout()\n",
    "plt.savefig(\"reports/figures/roc_nb05.png\", dpi=140)\n",
    "plt.show()\n",
    "\n",
    "plt.figure()\n",
    "plt.plot(rec, prec, label=\"LR\")\n",
    "plt.xlabel(\"Recall\"); plt.ylabel(\"Precision\"); plt.title(\"PR — LR (TEST)\")\n",
    "plt.legend()\n",
    "plt.tight_layout()\n",
    "plt.savefig(\"reports/figures/pr_nb05.png\", dpi=140)\n",
    "plt.show()\n"
   ]
  },
  {
   "cell_type": "code",
   "execution_count": 23,
   "id": "7f2d73a5",
   "metadata": {},
   "outputs": [
    {
     "name": "stderr",
     "output_type": "stream",
     "text": [
      "C:\\Users\\ybh11\\AppData\\Local\\Temp\\ipykernel_8196\\3720636791.py:4: FutureWarning: The default of observed=False is deprecated and will be changed to True in a future version of pandas. Pass observed=False to retain current behavior or observed=True to adopt the future default and silence this warning.\n",
      "  cal = df_te.assign(prob=preds[\"LR\"][\"te\"]).groupby(binned).agg(\n"
     ]
    },
    {
     "data": {
      "image/png": "[encoded data removed]",
      "text/plain": [
       "<Figure size 640x480 with 1 Axes>"
      ]
     },
     "metadata": {},
     "output_type": "display_data"
    },
    {
     "name": "stdout",
     "output_type": "stream",
     "text": [
      "Brier (LR):  0.27457821131282034\n",
      "Brier (XGB): 0.2649593462807125\n"
     ]
    }
   ],
   "source": [
    "# --- Reliability (Calibration) curve & Brier ---\n",
    "bins = np.linspace(0,1,11)\n",
    "binned = pd.cut(preds[\"LR\"][\"te\"], bins=bins, include_lowest=True)\n",
    "cal = df_te.assign(prob=preds[\"LR\"][\"te\"]).groupby(binned).agg(\n",
    "    mean_prob=(\"prob\",\"mean\"), mean_true=(\"y\",\"mean\"), count=(\"y\",\"size\")\n",
    ").dropna()\n",
    "\n",
    "plt.figure()\n",
    "plt.plot([0,1],[0,1], linestyle=\"--\")\n",
    "plt.scatter(cal[\"mean_prob\"], cal[\"mean_true\"], s=np.clip(cal[\"count\"], 10, 80))\n",
    "plt.xlabel(\"Predicted probability\")\n",
    "plt.ylabel(\"Empirical frequency\")\n",
    "plt.title(\"Reliability — LR (TEST)\")\n",
    "plt.tight_layout()\n",
    "plt.savefig(\"reports/figures/reliability_lr_nb05.png\", dpi=140)\n",
    "plt.show()\n",
    "\n",
    "print(\"Brier (LR): \", brier_score_loss(y_te, preds[\"LR\"][\"te\"]))\n",
    "if HAVE_XGB:\n",
    "    print(\"Brier (XGB):\", brier_score_loss(y_te, preds[\"XGB\"][\"te\"]))\n"
   ]
  },
  {
   "cell_type": "code",
   "execution_count": 24,
   "id": "181231c6",
   "metadata": {},
   "outputs": [
    {
     "name": "stdout",
     "output_type": "stream",
     "text": [
      "LR threshold* (val max-F1): 0.290\n"
     ]
    },
    {
     "data": {
      "text/html": [
       "<div>\n",
       "<style scoped>\n",
       "    .dataframe tbody tr th:only-of-type {\n",
       "        vertical-align: middle;\n",
       "    }\n",
       "\n",
       "    .dataframe tbody tr th {\n",
       "        vertical-align: top;\n",
       "    }\n",
       "\n",
       "    .dataframe thead th {\n",
       "        text-align: right;\n",
       "    }\n",
       "</style>\n",
       "<table border=\"1\" class=\"dataframe\">\n",
       "  <thead>\n",
       "    <tr style=\"text-align: right;\">\n",
       "      <th>Pred</th>\n",
       "      <th>0</th>\n",
       "      <th>1</th>\n",
       "    </tr>\n",
       "    <tr>\n",
       "      <th>Actual</th>\n",
       "      <th></th>\n",
       "      <th></th>\n",
       "    </tr>\n",
       "  </thead>\n",
       "  <tbody>\n",
       "    <tr>\n",
       "      <th>0</th>\n",
       "      <td>5</td>\n",
       "      <td>193</td>\n",
       "    </tr>\n",
       "    <tr>\n",
       "      <th>1</th>\n",
       "      <td>4</td>\n",
       "      <td>215</td>\n",
       "    </tr>\n",
       "  </tbody>\n",
       "</table>\n",
       "</div>"
      ],
      "text/plain": [
       "Pred    0    1\n",
       "Actual        \n",
       "0       5  193\n",
       "1       4  215"
      ]
     },
     "execution_count": 24,
     "metadata": {},
     "output_type": "execute_result"
    }
   ],
   "source": [
    "# --- Choose threshold on validation to maximize F1, then evaluate on TEST ---\n",
    "ths = np.linspace(0.05, 0.95, 181)\n",
    "f1s = [f1_score(y_va, (preds[\"LR\"][\"va\"] >= t).astype(int)) for t in ths]\n",
    "t_star = float(ths[int(np.argmax(f1s))])\n",
    "\n",
    "yhat_test = (preds[\"LR\"][\"te\"] >= t_star).astype(int)\n",
    "cm = pd.DataFrame(confusion_matrix(y_te, yhat_test),\n",
    "                  index=pd.Index([0,1], name=\"Actual\"),\n",
    "                  columns=pd.Index([0,1], name=\"Pred\"))\n",
    "print(f\"LR threshold* (val max-F1): {t_star:.3f}\")\n",
    "cm\n"
   ]
  },
  {
   "cell_type": "code",
   "execution_count": 25,
   "id": "cbf44054",
   "metadata": {},
   "outputs": [
    {
     "name": "stderr",
     "output_type": "stream",
     "text": [
      "C:\\Users\\ybh11\\AppData\\Local\\Temp\\ipykernel_8196\\2535673095.py:6: FutureWarning: DataFrameGroupBy.apply operated on the grouping columns. This behavior is deprecated, and in a future version of pandas the grouping columns will be excluded from the operation. Either pass `include_groups=False` to exclude the groupings or explicitly select the grouping columns after groupby to silence this warning.\n",
      "  by_year = df_te_eval.groupby(\"year\").apply(\n"
     ]
    },
    {
     "data": {
      "image/png": "[encoded data removed]",
      "text/plain": [
       "<Figure size 640x480 with 1 Axes>"
      ]
     },
     "metadata": {},
     "output_type": "display_data"
    },
    {
     "data": {
      "text/html": [
       "<div>\n",
       "<style scoped>\n",
       "    .dataframe tbody tr th:only-of-type {\n",
       "        vertical-align: middle;\n",
       "    }\n",
       "\n",
       "    .dataframe tbody tr th {\n",
       "        vertical-align: top;\n",
       "    }\n",
       "\n",
       "    .dataframe thead th {\n",
       "        text-align: right;\n",
       "    }\n",
       "</style>\n",
       "<table border=\"1\" class=\"dataframe\">\n",
       "  <thead>\n",
       "    <tr style=\"text-align: right;\">\n",
       "      <th></th>\n",
       "      <th>feature</th>\n",
       "      <th>coef</th>\n",
       "      <th>abs_coef</th>\n",
       "    </tr>\n",
       "  </thead>\n",
       "  <tbody>\n",
       "    <tr>\n",
       "      <th>0</th>\n",
       "      <td>macd</td>\n",
       "      <td>0.464793</td>\n",
       "      <td>0.464793</td>\n",
       "    </tr>\n",
       "    <tr>\n",
       "      <th>1</th>\n",
       "      <td>macd_signal</td>\n",
       "      <td>-0.317095</td>\n",
       "      <td>0.317095</td>\n",
       "    </tr>\n",
       "    <tr>\n",
       "      <th>2</th>\n",
       "      <td>ret1</td>\n",
       "      <td>-0.163849</td>\n",
       "      <td>0.163849</td>\n",
       "    </tr>\n",
       "    <tr>\n",
       "      <th>3</th>\n",
       "      <td>ret10</td>\n",
       "      <td>-0.065416</td>\n",
       "      <td>0.065416</td>\n",
       "    </tr>\n",
       "    <tr>\n",
       "      <th>4</th>\n",
       "      <td>ret5</td>\n",
       "      <td>0.060321</td>\n",
       "      <td>0.060321</td>\n",
       "    </tr>\n",
       "    <tr>\n",
       "      <th>5</th>\n",
       "      <td>vol10</td>\n",
       "      <td>0.025439</td>\n",
       "      <td>0.025439</td>\n",
       "    </tr>\n",
       "    <tr>\n",
       "      <th>6</th>\n",
       "      <td>rsi14</td>\n",
       "      <td>-0.021700</td>\n",
       "      <td>0.021700</td>\n",
       "    </tr>\n",
       "    <tr>\n",
       "      <th>7</th>\n",
       "      <td>volz</td>\n",
       "      <td>-0.011366</td>\n",
       "      <td>0.011366</td>\n",
       "    </tr>\n",
       "  </tbody>\n",
       "</table>\n",
       "</div>"
      ],
      "text/plain": [
       "       feature      coef  abs_coef\n",
       "0         macd  0.464793  0.464793\n",
       "1  macd_signal -0.317095  0.317095\n",
       "2         ret1 -0.163849  0.163849\n",
       "3        ret10 -0.065416  0.065416\n",
       "4         ret5  0.060321  0.060321\n",
       "5        vol10  0.025439  0.025439\n",
       "6        rsi14 -0.021700  0.021700\n",
       "7         volz -0.011366  0.011366"
      ]
     },
     "execution_count": 25,
     "metadata": {},
     "output_type": "execute_result"
    }
   ],
   "source": [
    "# --- Stability by year (TEST) & LR coefficients ---\n",
    "df_te_eval = df_te.copy()\n",
    "df_te_eval[\"prob_lr\"] = preds[\"LR\"][\"te\"]\n",
    "df_te_eval[\"year\"] = pd.to_datetime(df_te_eval[\"date\"]).dt.year\n",
    "\n",
    "by_year = df_te_eval.groupby(\"year\").apply(\n",
    "    lambda g: pd.Series({\n",
    "        \"AUC\": roc_auc_score(g[\"y\"], g[\"prob_lr\"]) if g[\"y\"].nunique() > 1 else np.nan,\n",
    "        \"Brier\": brier_score_loss(g[\"y\"], g[\"prob_lr\"]),\n",
    "        \"PosRate\": float(g[\"y\"].mean())\n",
    "    })\n",
    ")\n",
    "by_year.to_csv(\"data/metrics_by_year_LR.csv\")\n",
    "by_year\n",
    "\n",
    "# LR \"importance\" = absolute coefficient magnitude\n",
    "coef = pd.Series(lr.coef_.ravel(), index=feat_cols).sort_values(key=np.abs, ascending=False)\n",
    "imp_tbl = (pd.DataFrame({\"feature\": coef.index, \"coef\": coef.values})\n",
    "             .assign(abs_coef=lambda d: d[\"coef\"].abs()))\n",
    "topk = imp_tbl.head(20).reset_index(drop=True)\n",
    "topk.to_csv(\"data/lr_importance_topk.csv\", index=False)\n",
    "\n",
    "plt.figure()\n",
    "plt.barh(topk[\"feature\"][::-1], topk[\"abs_coef\"][::-1])\n",
    "plt.xlabel(\"|Coefficient|\")\n",
    "plt.title(\"LR Feature Importance (Top 20)\")\n",
    "plt.tight_layout()\n",
    "plt.savefig(\"reports/figures/lr_feature_importance_topk.png\", dpi=140)\n",
    "plt.show()\n",
    "\n",
    "imp_tbl.head(10)\n"
   ]
  },
  {
   "cell_type": "code",
   "execution_count": 26,
   "id": "d0fccd09",
   "metadata": {},
   "outputs": [
    {
     "data": {
      "image/png": "[encoded data removed]",
      "text/plain": [
       "<Figure size 640x480 with 1 Axes>"
      ]
     },
     "metadata": {},
     "output_type": "display_data"
    },
    {
     "data": {
      "text/plain": [
       "CAGR          0.1058\n",
       "Vol           0.2892\n",
       "Sharpe        0.3658\n",
       "MaxDD        -0.2989\n",
       "HitRate       0.5156\n",
       "TurnoverYr    9.6923\n",
       "dtype: float64"
      ]
     },
     "execution_count": 26,
     "metadata": {},
     "output_type": "execute_result"
    }
   ],
   "source": [
    "# --- Backtest: long-only when prob >= t_star ---\n",
    "df_bt = df_te_eval.copy()\n",
    "# assume df has a next-day return column 'ret_next'; if not, compute from 'close'\n",
    "if \"ret_next\" not in df_bt.columns:\n",
    "    if \"close\" in df_bt.columns:\n",
    "        df_bt[\"ret_next\"] = df_bt[\"close\"].pct_change().shift(-1)\n",
    "    else:\n",
    "        raise ValueError(\"No 'ret_next' or 'close' column found for backtest.\")\n",
    "\n",
    "df_bt[\"signal\"] = (df_bt[\"prob_lr\"] >= t_star).astype(int)\n",
    "df_bt[\"strategy_ret\"] = df_bt[\"signal\"] * df_bt[\"ret_next\"]\n",
    "df_bt[\"equity\"] = (1 + df_bt[\"strategy_ret\"].fillna(0)).cumprod()\n",
    "\n",
    "# KPIs\n",
    "def kpis(ret_series, freq=252):\n",
    "    r = ret_series.fillna(0)\n",
    "    cagr = (1 + r).prod() ** (freq / max(len(r),1)) - 1\n",
    "    vol  = r.std() * np.sqrt(freq)\n",
    "    sharpe = cagr / vol if vol > 0 else np.nan\n",
    "    equity = (1 + r).cumprod()\n",
    "    maxdd = (equity / equity.cummax() - 1).min()\n",
    "    hit = (r > 0).mean()\n",
    "    turn = np.mean(np.abs(np.diff((r!=0).astype(int)))) * freq if len(r)>1 else 0\n",
    "    return pd.Series({\"CAGR\":cagr, \"Vol\":vol, \"Sharpe\":sharpe, \"MaxDD\":maxdd, \"HitRate\":hit, \"TurnoverYr\":turn})\n",
    "\n",
    "bt_stats = kpis(df_bt[\"strategy_ret\"])\n",
    "plt.figure()\n",
    "plt.plot(df_bt[\"date\"], df_bt[\"equity\"])\n",
    "plt.title(\"Equity Curve — LR thresholded\")\n",
    "plt.xlabel(\"Date\"); plt.ylabel(\"Equity\")\n",
    "plt.tight_layout()\n",
    "plt.savefig(\"reports/figures/equity_curve_lr.png\", dpi=140)\n",
    "plt.show()\n",
    "\n",
    "bt_stats.round(4)\n"
   ]
  },
  {
   "cell_type": "code",
   "execution_count": 27,
   "id": "8254c7d2",
   "metadata": {},
   "outputs": [
    {
     "name": "stdout",
     "output_type": "stream",
     "text": [
      "Saved scaler, lr, and threshold.\n"
     ]
    }
   ],
   "source": [
    "# --- Save artifacts ---\n",
    "joblib.dump(scaler, \"artifacts/scaler.joblib\")\n",
    "joblib.dump(lr, \"artifacts/lr.joblib\")\n",
    "with open(\"artifacts/threshold.json\",\"w\",encoding=\"utf-8\") as f:\n",
    "    json.dump({\"threshold\": t_star}, f, indent=2)\n",
    "print(\"Saved scaler, lr, and threshold.\")\n"
   ]
  },
  {
   "cell_type": "code",
   "execution_count": 28,
   "id": "5abd7c36",
   "metadata": {},
   "outputs": [
    {
     "name": "stdout",
     "output_type": "stream",
     "text": [
      "Wrote reports/model_card.md\n"
     ]
    }
   ],
   "source": [
    "# --- Model Card: write 'reports/model_card.md' (UTC-aware, no tabulate dep) ---\n",
    "from datetime import datetime, UTC\n",
    "import json, pathlib, pandas as pd\n",
    "\n",
    "def df_to_md(tbl: pd.DataFrame, index=False, floatfmt=\".4f\"):\n",
    "    \"\"\"Minimal DataFrame -> GitHub-style markdown table (no external deps).\"\"\"\n",
    "    df2 = tbl.copy()\n",
    "    if not index and df2.index.name is not None:\n",
    "        df2 = df2.reset_index()\n",
    "\n",
    "    # Format floats\n",
    "    for col in df2.columns:\n",
    "        if pd.api.types.is_float_dtype(df2[col]):\n",
    "            df2[col] = df2[col].map(lambda x: f\"{x:{floatfmt}}\" if pd.notnull(x) else \"\")\n",
    "\n",
    "    headers = list(map(str, df2.columns))\n",
    "    lines = []\n",
    "    lines.append(\"| \" + \" | \".join(headers) + \" |\")\n",
    "    lines.append(\"| \" + \" | \".join([\"---\"] * len(headers)) + \" |\")\n",
    "    for _, row in df2.iterrows():\n",
    "        lines.append(\"| \" + \" | \".join(map(str, row.values)) + \" |\")\n",
    "    return \"\\n\".join(lines)\n",
    "\n",
    "# Load small tables for the card\n",
    "card_tbl   = pd.read_csv(\"data/explainability_summary.csv\")                  # overall test metrics by model\n",
    "by_year_tbl = pd.read_csv(\"data/metrics_by_year_LR.csv\")                     # yearly stability (already has 'year' col)\n",
    "\n",
    "# Threshold used\n",
    "t_star = json.load(open(\"artifacts/threshold.json\", \"r\", encoding=\"utf-8\"))[\"threshold\"]\n",
    "\n",
    "# UTC-aware date string\n",
    "today_utc = datetime.now(UTC).date().isoformat()\n",
    "\n",
    "# Compose model card\n",
    "card = f\"\"\"# Model Card — Stock Direction (LogReg)\n",
    "**Date:** {today_utc}\n",
    "**Ticker:** {TICKER} | **Period:** {START} → {END}\n",
    "**Labeling:** tau={TAU}, dead_zone={DEAD_ZONE}\n",
    "**Features ({len(feat_cols)}):** {', '.join(feat_cols[:12])}{' ...' if len(feat_cols)>12 else ''}\n",
    "\n",
    "## Metrics (Val/Test summary)\n",
    "{df_to_md(card_tbl, index=False, floatfmt=\".4f\")}\n",
    "\n",
    "**Val-chosen threshold (max-F1):** {t_star:.3f}\n",
    "\n",
    "## Stability (test by year)\n",
    "{df_to_md(by_year_tbl, index=False, floatfmt=\".4f\")}\n",
    "\n",
    "## Artifacts\n",
    "- `artifacts/scaler.joblib`, `artifacts/lr.joblib`, `artifacts/threshold.json`, `artifacts/feature_list.json`\n",
    "- Curves: `reports/figures/roc_nb05.png`, `pr_nb05.png`, `reliability_lr_nb05.png`, `equity_curve_lr.png`\n",
    "- Importance: `reports/figures/lr_feature_importance_topk.png`\n",
    "\"\"\"\n",
    "\n",
    "# Write with UTF-8 (avoids Windows cp1252 issues)\n",
    "pathlib.Path(\"reports/model_card.md\").write_text(card, encoding=\"utf-8\")\n",
    "print(\"Wrote reports/model_card.md\")\n"
   ]
  },
  {
   "cell_type": "code",
   "execution_count": 29,
   "id": "23053fbf",
   "metadata": {},
   "outputs": [
    {
     "name": "stdout",
     "output_type": "stream",
     "text": [
      "Artifacts: [WindowsPath('artifacts/feature_list.json'), WindowsPath('artifacts/inversion.json'), WindowsPath('artifacts/lr.joblib'), WindowsPath('artifacts/scaler.joblib'), WindowsPath('artifacts/threshold.json')]\n",
      "Figures: [WindowsPath('reports/figures/equity_curve_lr.png'), WindowsPath('reports/figures/lr_feature_importance_topk.png'), WindowsPath('reports/figures/pr_LR_test.png'), WindowsPath('reports/figures/pr_nb02.png'), WindowsPath('reports/figures/pr_nb05.png'), WindowsPath('reports/figures/pr_XGB_test.png'), WindowsPath('reports/figures/reliability_lr_nb05.png'), WindowsPath('reports/figures/roc_LR_test.png'), WindowsPath('reports/figures/roc_nb02.png'), WindowsPath('reports/figures/roc_nb05.png'), WindowsPath('reports/figures/roc_XGB_test.png')]\n",
      "Data: [WindowsPath('data/confusion_matrix_LR.csv'), WindowsPath('data/df_nb02.csv'), WindowsPath('data/df_nb06_market.csv'), WindowsPath('data/explainability_summary.csv'), WindowsPath('data/labeling_robustness_lr.csv'), WindowsPath('data/label_sweep_lr.csv'), WindowsPath('data/logreg_coefficients_LR.csv'), WindowsPath('data/lr_feature_importance.csv'), WindowsPath('data/lr_importance_topk.csv'), WindowsPath('data/metrics_by_year_LR.csv'), WindowsPath('data/sensitivity_tau_deadzone.csv'), WindowsPath('data/storage_format.json')]\n"
     ]
    }
   ],
   "source": [
    "# --- Quick check of outputs ---\n",
    "print(\"Artifacts:\", list(pathlib.Path(\"artifacts\").glob(\"*\")))\n",
    "print(\"Figures:\",  list(pathlib.Path(\"reports/figures\").glob(\"*.png\")))\n",
    "print(\"Data:\",     [p for p in pathlib.Path(\"data\").glob(\"*\") if p.suffix in {'.csv','.parquet','.json'}])\n"
   ]
  },
  {
   "cell_type": "code",
   "execution_count": 30,
   "id": "e377dcea",
   "metadata": {},
   "outputs": [
    {
     "name": "stdout",
     "output_type": "stream",
     "text": [
      "Wrote data/metrics_by_year_LR.csv\n"
     ]
    },
    {
     "data": {
      "text/html": [
       "<div>\n",
       "<style scoped>\n",
       "    .dataframe tbody tr th:only-of-type {\n",
       "        vertical-align: middle;\n",
       "    }\n",
       "\n",
       "    .dataframe tbody tr th {\n",
       "        vertical-align: top;\n",
       "    }\n",
       "\n",
       "    .dataframe thead th {\n",
       "        text-align: right;\n",
       "    }\n",
       "</style>\n",
       "<table border=\"1\" class=\"dataframe\">\n",
       "  <thead>\n",
       "    <tr style=\"text-align: right;\">\n",
       "      <th></th>\n",
       "      <th>year</th>\n",
       "      <th>AUC</th>\n",
       "      <th>Brier</th>\n",
       "      <th>PosRate</th>\n",
       "    </tr>\n",
       "  </thead>\n",
       "  <tbody>\n",
       "    <tr>\n",
       "      <th>0</th>\n",
       "      <td>2022</td>\n",
       "      <td>0.416667</td>\n",
       "      <td>0.276879</td>\n",
       "      <td>0.439024</td>\n",
       "    </tr>\n",
       "    <tr>\n",
       "      <th>1</th>\n",
       "      <td>2023</td>\n",
       "      <td>0.424551</td>\n",
       "      <td>0.266970</td>\n",
       "      <td>0.569565</td>\n",
       "    </tr>\n",
       "  </tbody>\n",
       "</table>\n",
       "</div>"
      ],
      "text/plain": [
       "   year       AUC     Brier   PosRate\n",
       "0  2022  0.416667  0.276879  0.439024\n",
       "1  2023  0.424551  0.266970  0.569565"
      ]
     },
     "execution_count": 30,
     "metadata": {},
     "output_type": "execute_result"
    }
   ],
   "source": [
    "# --- Compute & save metrics by calendar year on the TEST split (LogReg) ---\n",
    "\n",
    "import json, pathlib\n",
    "import numpy as np, pandas as pd\n",
    "from sklearn.metrics import roc_auc_score, brier_score_loss\n",
    "from joblib import load\n",
    "\n",
    "# 1) Load dataset + artifacts\n",
    "data_path = \"data/df_nb02.parquet\" if pathlib.Path(\"data/df_nb02.parquet\").exists() else \"data/df_nb02.csv\"\n",
    "df = pd.read_parquet(data_path) if data_path.endswith(\".parquet\") else pd.read_csv(data_path)\n",
    "\n",
    "feat_cols = json.load(open(\"artifacts/feature_list.json\",\"r\",encoding=\"utf-8\"))\n",
    "scaler   = load(\"artifacts/scaler.joblib\")\n",
    "lr       = load(\"artifacts/lr.joblib\")\n",
    "\n",
    "# 2) Chronological split (same 70/15/15 we used earlier)\n",
    "df = df.sort_values(\"date\").reset_index(drop=True)\n",
    "n   = len(df)\n",
    "i_tr = int(0.70*n)\n",
    "i_va = int(0.85*n)\n",
    "df_te = df.iloc[i_va:].copy()\n",
    "\n",
    "X_te = scaler.transform(df_te[feat_cols].to_numpy())\n",
    "y_te = df_te[\"y\"].to_numpy().astype(int)\n",
    "p_te = lr.predict_proba(X_te)[:,1]\n",
    "\n",
    "# 3) Group by year and compute metrics\n",
    "df_te[\"year\"] = pd.to_datetime(df_te[\"date\"]).dt.year\n",
    "\n",
    "rows = []\n",
    "for yr, g in df_te.groupby(\"year\"):\n",
    "    y = g[\"y\"].astype(int).to_numpy()\n",
    "    p = p_te[g.index - df_te.index[0]]  # align indices to p_te slice\n",
    "\n",
    "    # Metrics (handle degenerate cases)\n",
    "    try:\n",
    "        auc = roc_auc_score(y, p) if len(np.unique(y)) > 1 else np.nan\n",
    "    except Exception:\n",
    "        auc = np.nan\n",
    "    brier = brier_score_loss(y, p)\n",
    "    pos   = float(y.mean())\n",
    "\n",
    "    rows.append({\"year\": int(yr), \"AUC\": auc, \"Brier\": brier, \"PosRate\": pos})\n",
    "\n",
    "by_year = pd.DataFrame(rows).sort_values(\"year\")\n",
    "pathlib.Path(\"data\").mkdir(exist_ok=True, parents=True)\n",
    "by_year.to_csv(\"data/metrics_by_year_LR.csv\", index=False)\n",
    "print(\"Wrote data/metrics_by_year_LR.csv\")\n",
    "by_year\n"
   ]
  },
  {
   "cell_type": "code",
   "execution_count": 32,
   "id": "455945a8",
   "metadata": {},
   "outputs": [
    {
     "ename": "ModuleNotFoundError",
     "evalue": "No module named 'src'",
     "output_type": "error",
     "traceback": [
      "\u001b[31m---------------------------------------------------------------------------\u001b[39m",
      "\u001b[31mModuleNotFoundError\u001b[39m                       Traceback (most recent call last)",
      "\u001b[36mCell\u001b[39m\u001b[36m \u001b[39m\u001b[32mIn[32]\u001b[39m\u001b[32m, line 3\u001b[39m\n\u001b[32m      1\u001b[39m \u001b[38;5;66;03m# --- Optional: score the latest day with the saved model ---\u001b[39;00m\n\u001b[32m      2\u001b[39m \u001b[38;5;28;01mimport\u001b[39;00m\u001b[38;5;250m \u001b[39m\u001b[34;01mjson\u001b[39;00m,\u001b[38;5;250m \u001b[39m\u001b[34;01mjoblib\u001b[39;00m,\u001b[38;5;250m \u001b[39m\u001b[34;01mpandas\u001b[39;00m\u001b[38;5;250m \u001b[39m\u001b[38;5;28;01mas\u001b[39;00m\u001b[38;5;250m \u001b[39m\u001b[34;01mpd\u001b[39;00m\n\u001b[32m----> \u001b[39m\u001b[32m3\u001b[39m \u001b[38;5;28;01mfrom\u001b[39;00m\u001b[38;5;250m \u001b[39m\u001b[34;01msrc\u001b[39;00m\u001b[34;01m.\u001b[39;00m\u001b[34;01mdata\u001b[39;00m\u001b[38;5;250m \u001b[39m\u001b[38;5;28;01mimport\u001b[39;00m get_data\n\u001b[32m      4\u001b[39m \u001b[38;5;28;01mfrom\u001b[39;00m\u001b[38;5;250m \u001b[39m\u001b[34;01msrc\u001b[39;00m\u001b[34;01m.\u001b[39;00m\u001b[34;01mfeatures\u001b[39;00m\u001b[38;5;250m \u001b[39m\u001b[38;5;28;01mimport\u001b[39;00m add_features\n\u001b[32m      5\u001b[39m \u001b[38;5;28;01mfrom\u001b[39;00m\u001b[38;5;250m \u001b[39m\u001b[34;01msrc\u001b[39;00m\u001b[34;01m.\u001b[39;00m\u001b[34;01mmarket\u001b[39;00m\u001b[38;5;250m \u001b[39m\u001b[38;5;28;01mimport\u001b[39;00m add_market_context\n",
      "\u001b[31mModuleNotFoundError\u001b[39m: No module named 'src'"
     ]
    }
   ],
   "source": [
    "# --- Optional: score the latest day with the saved model ---\n",
    "import json, joblib, pandas as pd\n",
    "from src.data import get_data\n",
    "from src.features import add_features\n",
    "from src.market import add_market_context\n",
    "\n",
    "# Pull recent history through the latest available trading day\n",
    "LATEST_START, LATEST_END = \"2024-01-01\", None\n",
    "df_latest = get_data(TICKER, start=LATEST_START, end=LATEST_END)\n",
    "df_latest = add_features(df_latest)\n",
    "df_latest = add_market_context(df_latest, start=LATEST_START, end=LATEST_END).dropna().reset_index(drop=True)\n",
    "\n",
    "# Align to training feature list\n",
    "feat_cols = json.load(open(\"artifacts/feature_list.json\", \"r\", encoding=\"utf-8\"))\n",
    "X = df_latest[feat_cols].copy()\n",
    "\n",
    "scaler = joblib.load(\"artifacts/scaler.joblib\")\n",
    "model  = joblib.load(\"artifacts/lr.joblib\")\n",
    "p = model.predict_proba(scaler.transform(X))[:, 1]\n",
    "\n",
    "print(\"Latest date:\", df_latest[\"date\"].iloc[-1].date(), \"| Prob(up):\", round(float(p[-1]), 4))\n"
   ]
  }
 ],
 "metadata": {
  "kernelspec": {
   "display_name": "Python 3.13 (.venv stock-direction-ml)",
   "language": "python",
   "name": "stock-direction-ml"
  },
  "language_info": {
   "codemirror_mode": {
    "name": "ipython",
    "version": 3
   },
   "file_extension": ".py",
   "mimetype": "text/x-python",
   "name": "python",
   "nbconvert_exporter": "python",
   "pygments_lexer": "ipython3",
   "version": "3.13.7"
  }
 },
 "nbformat": 4,
 "nbformat_minor": 5
}
